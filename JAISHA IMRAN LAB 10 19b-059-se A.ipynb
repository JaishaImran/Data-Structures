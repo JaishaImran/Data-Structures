{
 "cells": [
  {
   "cell_type": "markdown",
   "metadata": {},
   "source": [
    "# LAB 9"
   ]
  },
  {
   "cell_type": "markdown",
   "metadata": {},
   "source": [
    "# QUESTION 1:"
   ]
  },
  {
   "cell_type": "code",
   "execution_count": 2,
   "metadata": {},
   "outputs": [
    {
     "name": "stdout",
     "output_type": "stream",
     "text": [
      "Enter name of best five statements: barirah\n",
      "Enter name of best five statements: muneeba\n",
      "Enter name of best five statements: shajia\n",
      "Enter name of best five statements: anhaar\n",
      "Enter name of best five statements: jaisha\n",
      "{'jaisha', 'barirah', 'muneeba', 'anhaar', 'shajia'}\n"
     ]
    }
   ],
   "source": [
    "students = set()\n",
    "for x in range(5):\n",
    "    Name = input(\"Enter name of best five students: \")\n",
    "    students.add(Name)\n",
    "print(students)"
   ]
  },
  {
   "cell_type": "markdown",
   "metadata": {},
   "source": [
    "# QUESTION 2:"
   ]
  },
  {
   "cell_type": "code",
   "execution_count": 3,
   "metadata": {},
   "outputs": [
    {
     "name": "stdout",
     "output_type": "stream",
     "text": [
      "Enter the name who left : Jaisha\n",
      "Enter the name who left : Anhaar\n",
      "{'Shajia', 'Muneeba', 'Barirah'}\n"
     ]
    }
   ],
   "source": [
    "Students = {\"Jaisha\",\"Anhaar\",\"Barirah\",\"Muneeba\",\"Shajia\"}\n",
    "for x in range(2):\n",
    "    Name = input(\"Enter the name who left : \")\n",
    "    Students.remove(Name)\n",
    "\n",
    "print(Students)"
   ]
  },
  {
   "cell_type": "markdown",
   "metadata": {},
   "source": [
    "# QUESTION 3:"
   ]
  },
  {
   "cell_type": "code",
   "execution_count": 4,
   "metadata": {},
   "outputs": [
    {
     "name": "stdout",
     "output_type": "stream",
     "text": [
      "Enter value: biryani\n",
      "Enter value: burger\n",
      "Enter value: pulao\n",
      "Enter value: chineese rice\n",
      "{'biryani', 'pulao', 'chineese rice', 'burger'}\n",
      "set()\n"
     ]
    }
   ],
   "source": [
    "dishes = set()\n",
    "for x in range(4):\n",
    "    d = input(\"Enter value: \")\n",
    "    dishes.add(d)\n",
    "print(dishes)\n",
    "for y in range(len(dishes)):\n",
    "    dishes.pop()\n",
    "print(dishes)"
   ]
  },
  {
   "cell_type": "markdown",
   "metadata": {},
   "source": [
    "# QUESTION 4:"
   ]
  },
  {
   "cell_type": "code",
   "execution_count": 11,
   "metadata": {},
   "outputs": [
    {
     "name": "stdout",
     "output_type": "stream",
     "text": [
      "Enter selected item: Huawei\n",
      "Enter selected item: Nokia\n",
      "2000\n",
      "2000\n",
      "2000\n"
     ]
    }
   ],
   "source": [
    "items = {'Samsung','Apple','Huawei','Nokia','Sony'}\n",
    "lst = [['Samsung',3000],['Apple',459800],['Huawei',4000],['Nokia',2000],['Sony',1000]]\n",
    "f = []\n",
    "l = []\n",
    "final = 0\n",
    "for x in range(0, 2):\n",
    "    h = input(\"Enter selected item: \")\n",
    "    items.remove(h)\n",
    "    f.append(h)\n",
    "    for i in range(len(lst)):\n",
    "        if h == lst[y][0]:\n",
    "            final = final + lst[y][1]\n",
    "            l.append(lst[y][1])\n",
    "            break\n",
    "print(final)\n",
    "print(max(l))\n",
    "print(min(l))"
   ]
  },
  {
   "cell_type": "markdown",
   "metadata": {},
   "source": [
    "# QUESTION 5:"
   ]
  },
  {
   "cell_type": "code",
   "execution_count": 12,
   "metadata": {},
   "outputs": [
    {
     "name": "stdout",
     "output_type": "stream",
     "text": [
      "9\n"
     ]
    }
   ],
   "source": [
    "U = 40\n",
    "H = 21\n",
    "H_C = 10\n",
    "\n",
    "C = U-H-H_C\n",
    "print(C)"
   ]
  },
  {
   "cell_type": "code",
   "execution_count": null,
   "metadata": {},
   "outputs": [],
   "source": []
  }
 ],
 "metadata": {
  "kernelspec": {
   "display_name": "Python 3",
   "language": "python",
   "name": "python3"
  },
  "language_info": {
   "codemirror_mode": {
    "name": "ipython",
    "version": 3
   },
   "file_extension": ".py",
   "mimetype": "text/x-python",
   "name": "python",
   "nbconvert_exporter": "python",
   "pygments_lexer": "ipython3",
   "version": "3.7.4"
  }
 },
 "nbformat": 4,
 "nbformat_minor": 2
}
