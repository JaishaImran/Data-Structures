{
 "cells": [
  {
   "cell_type": "code",
   "execution_count": 1,
   "metadata": {},
   "outputs": [
    {
     "name": "stdout",
     "output_type": "stream",
     "text": [
      "6637\n"
     ]
    }
   ],
   "source": [
    "from datetime import date\n",
    "\n",
    "FirstDate = date(2019, 6, 6)\n",
    "SecondDate = date(2001, 4, 4)\n",
    "variable = FirstDate - SecondDate\n",
    "\n",
    "print (variable.days)"
   ]
  },
  {
   "cell_type": "code",
   "execution_count": 2,
   "metadata": {},
   "outputs": [
    {
     "name": "stdout",
     "output_type": "stream",
     "text": [
      "15.454813220625093\n"
     ]
    }
   ],
   "source": [
    "import math\n",
    "\n",
    "#Part a\n",
    "\n",
    "length = 16\n",
    "angle = 75\n",
    "\n",
    "\n",
    "angle_in_radian = (math.pi * angle)/180\n",
    "height = length * math.sin(angle_in_radian)\n",
    "print(height)"
   ]
  },
  {
   "cell_type": "code",
   "execution_count": 3,
   "metadata": {},
   "outputs": [
    {
     "name": "stdout",
     "output_type": "stream",
     "text": [
      "0.0\n"
     ]
    }
   ],
   "source": [
    "import math\n",
    "\n",
    "#part b\n",
    "\n",
    "length = 20\n",
    "angle = 0\n",
    "\n",
    "angle_in_radian = (math.pi * angle)/180\n",
    "height = length * math.sin(angle_in_radian)\n",
    "print (height)"
   ]
  },
  {
   "cell_type": "code",
   "execution_count": 4,
   "metadata": {},
   "outputs": [
    {
     "name": "stdout",
     "output_type": "stream",
     "text": [
      "16.970562748477143\n"
     ]
    }
   ],
   "source": [
    "import math\n",
    "\n",
    "#part c \n",
    "\n",
    "length = 24\n",
    "angle = 45\n",
    "\n",
    "angle_in_radian = (math.pi * angle)/180\n",
    "height = length * math.sin(angle_in_radian)\n",
    "print(height)         "
   ]
  },
  {
   "cell_type": "code",
   "execution_count": 5,
   "metadata": {},
   "outputs": [
    {
     "name": "stdout",
     "output_type": "stream",
     "text": [
      "23.63538607229299\n"
     ]
    }
   ],
   "source": [
    "import math\n",
    "\n",
    "#part d \n",
    "\n",
    "length = 24\n",
    "angle = 80\n",
    "\n",
    "angle_in_radian = (math.pi * angle)/180\n",
    "height = length * math.sin(angle_in_radian)\n",
    "print(height)"
   ]
  },
  {
   "cell_type": "code",
   "execution_count": 6,
   "metadata": {
    "scrolled": true
   },
   "outputs": [
    {
     "name": "stdout",
     "output_type": "stream",
     "text": [
      "sorted lst(in Decending): [5, 4, 3, 2, 1]\n",
      "[4, 3, 2, 1, 5]\n"
     ]
    }
   ],
   "source": [
    "lst = [1,2,3,4,5]\n",
    " \n",
    "#part a\n",
    "middle_index = int(len(lst)/2)\n",
    "\n",
    "#part b\n",
    "middle_value = lst[middle_index]\n",
    "middle_value\n",
    "\n",
    "#part c\n",
    "#sort the lst\n",
    "\n",
    "lst.sort(reverse=True)\n",
    "\n",
    "#print lst\n",
    "print('sorted lst(in Decending):', lst)\n",
    "\n",
    "#part d\n",
    "lst.pop(0)\n",
    "\n",
    "#part e\n",
    "x = [4,3,2,1]\n",
    "y = [5]\n",
    "#concatination\n",
    "t = x + y\n",
    "print(t)\n",
    "\n",
    "\n"
   ]
  },
  {
   "cell_type": "code",
   "execution_count": 7,
   "metadata": {},
   "outputs": [
    {
     "name": "stdout",
     "output_type": "stream",
     "text": [
      "1\n"
     ]
    }
   ],
   "source": [
    "z = \"anachronistically\"\n",
    "len(z)\n",
    "c = \"counterintuitive\"\n",
    "len(c)\n",
    "\n",
    "u = len(z) - len(c)\n",
    "print(u)"
   ]
  },
  {
   "cell_type": "code",
   "execution_count": 8,
   "metadata": {},
   "outputs": [
    {
     "data": {
      "text/plain": [
       "17"
      ]
     },
     "execution_count": 8,
     "metadata": {},
     "output_type": "execute_result"
    }
   ],
   "source": [
    "r = \"counterrevolution\"\n",
    "j = \"counter\"\n",
    "k = \"resolution\"\n",
    "#concatination\n",
    "l = r = j + k\n",
    "len(l)"
   ]
  },
  {
   "cell_type": "code",
   "execution_count": 9,
   "metadata": {},
   "outputs": [
    {
     "data": {
      "text/plain": [
       "29"
      ]
     },
     "execution_count": 9,
     "metadata": {},
     "output_type": "execute_result"
    }
   ],
   "source": [
    "g = \"floccinaucinihilipilification\"\n",
    "len(g)"
   ]
  },
  {
   "cell_type": "code",
   "execution_count": 10,
   "metadata": {},
   "outputs": [
    {
     "name": "stdout",
     "output_type": "stream",
     "text": [
      "6.5\n"
     ]
    }
   ],
   "source": [
    "a = 6\n",
    "b = 7\n",
    "c = (a+b)/2\n",
    "print(c)"
   ]
  },
  {
   "cell_type": "code",
   "execution_count": 11,
   "metadata": {},
   "outputs": [
    {
     "name": "stdout",
     "output_type": "stream",
     "text": [
      "John Fitzgerald Kennedy\n"
     ]
    }
   ],
   "source": [
    "f_name = \"John\"\n",
    "mid_name = \"Fitzgerald\"\n",
    "l_name = \"Kennedy\"\n",
    "#concatination\n",
    "name = (f_name + \" \" +  mid_name + \" \" + l_name)\n",
    "print (name)"
   ]
  },
  {
   "cell_type": "code",
   "execution_count": 12,
   "metadata": {
    "scrolled": true
   },
   "outputs": [
    {
     "name": "stdout",
     "output_type": "stream",
     "text": [
      "['Jan', 'Feb', 'Mar', 'May']\n",
      "['Jan', 'Feb', 'Mar']\n",
      "['Jan', 'Feb', 'Mar', 'Apr']\n",
      "['Jan', 'Feb', 'Mar', 'Apr', 'May']\n",
      "['Jan', 'Feb', 'Mar', 'Apr', 'May', 'Jun']\n",
      "['Jan', 'Mar', 'Apr', 'May', 'Jun']\n",
      "['May', 'Mar', 'Jun', 'Jan', 'Feb', 'Apr']\n"
     ]
    },
    {
     "data": {
      "text/plain": [
       "'Jun'"
      ]
     },
     "execution_count": 12,
     "metadata": {},
     "output_type": "execute_result"
    }
   ],
   "source": [
    "#for list\n",
    "L = ['Jan' , 'Feb' , 'Mar' , 'and' , 'May']\n",
    "L.pop(3)\n",
    "print(L)\n",
    "L.pop(3)\n",
    "print(L)\n",
    "L.append('Apr') and extend('and')\n",
    "print(L)\n",
    "L.append('May')\n",
    "print(L)\n",
    "L.append('Jun')\n",
    "print(L)\n",
    "L.pop(1)\n",
    "print(L)\n",
    "\n",
    "#sort the list\n",
    "L=['Jan' , 'Feb', 'Mar', 'Apr', 'May', 'Jun']\n",
    "L.sort(reverse=True)\n",
    "print(L)\n",
    "\n",
    "#pop the list\n",
    "L=['Jan', 'Feb', 'Mar', 'Apr', 'May', 'Jun']\n",
    "L.pop()\n"
   ]
  },
  {
   "cell_type": "code",
   "execution_count": 11,
   "metadata": {},
   "outputs": [
    {
     "name": "stdout",
     "output_type": "stream",
     "text": [
      "['Jan', 'Feb', 'Mar', 'May']\n",
      "['Jan', 'Feb', 'Mar']\n",
      "['Jan', 'Feb', 'Mar', 'Apr']\n",
      "['Jan', 'Feb', 'Mar', 'Apr', 'May']\n",
      "['Jan', 'Feb', 'Mar', 'Apr', 'May', 'Jun']\n",
      "['Jan', 'Mar', 'Apr', 'May', 'Jun']\n",
      "['May', 'Mar', 'Jun', 'Jan', 'Feb', 'Apr']\n"
     ]
    },
    {
     "data": {
      "text/plain": [
       "('Jan', 'Feb', 'Mar', 'Apr', 'May')"
      ]
     },
     "execution_count": 11,
     "metadata": {},
     "output_type": "execute_result"
    }
   ],
   "source": [
    "#for tuple\n",
    "L = ['Jan' , 'Feb' , 'Mar' , 'and' , 'May']\n",
    "L.pop(3)\n",
    "print(L)\n",
    "tuple(L)\n",
    "L.pop(3)\n",
    "print(L)\n",
    "tuple(L)\n",
    "L.append('Apr') and extend('and')\n",
    "print(L)\n",
    "tuple(L)\n",
    "L.append('May')\n",
    "print(L)\n",
    "tuple(L)\n",
    "L.append('Jun')\n",
    "print(L)\n",
    "tuple(L)\n",
    "L.pop(1)\n",
    "print(L)\n",
    "tuple(L)\n",
    "\n",
    "#sort the list\n",
    "L=['Jan' , 'Feb', 'Mar', 'Apr', 'May', 'Jun']\n",
    "L.sort(reverse=True)\n",
    "print(L)\n",
    "tuple(L)\n",
    "\n",
    "#pop the list\n",
    "L=['Jan', 'Feb', 'Mar', 'Apr', 'May', 'Jun']\n",
    "L.pop()\n",
    "tuple(L)\n"
   ]
  },
  {
   "cell_type": "code",
   "execution_count": 13,
   "metadata": {},
   "outputs": [
    {
     "name": "stdout",
     "output_type": "stream",
     "text": [
      "True\n",
      "False\n",
      "False\n",
      "False\n"
     ]
    }
   ],
   "source": [
    "import math\n",
    "r=10\n",
    "X=0\n",
    "Y=0\n",
    "p=math.sqrt((0-0)**2+(0-0)**2)\n",
    "q=math.sqrt((10-0)**2+(10-0)**2)\n",
    "r=math.sqrt((6-0)**2+(6-0)**2)\n",
    "z=math.sqrt((8-0)**2+(7-0)**2)\n",
    "print(p<r)\n",
    "print(q<r)\n",
    "print(r<r)\n",
    "print(z<r)"
   ]
  },
  {
   "cell_type": "code",
   "execution_count": null,
   "metadata": {},
   "outputs": [],
   "source": []
  }
 ],
 "metadata": {
  "kernelspec": {
   "display_name": "Python 3",
   "language": "python",
   "name": "python3"
  },
  "language_info": {
   "codemirror_mode": {
    "name": "ipython",
    "version": 3
   },
   "file_extension": ".py",
   "mimetype": "text/x-python",
   "name": "python",
   "nbconvert_exporter": "python",
   "pygments_lexer": "ipython3",
   "version": "3.7.3"
  }
 },
 "nbformat": 4,
 "nbformat_minor": 2
}
