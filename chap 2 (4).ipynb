{
 "cells": [
  {
   "cell_type": "code",
   "execution_count": 20,
   "metadata": {
    "scrolled": true
   },
   "outputs": [
    {
     "name": "stdout",
     "output_type": "stream",
     "text": [
      "15\n",
      "\n",
      "\t\n",
      "24.333333333333332\n",
      "\n",
      "\t\n",
      "5\n",
      "\n",
      "\t\n",
      "5.52054794520548\n",
      "\n",
      "\t\n",
      "1024\n",
      "\n",
      "\t\n",
      "3\n",
      "\n",
      "\t\n"
     ]
    },
    {
     "data": {
      "text/plain": [
       "29.95"
      ]
     },
     "execution_count": 20,
     "metadata": {},
     "output_type": "execute_result"
    }
   ],
   "source": [
    "#Exercise 2.1\n",
    "a = (1+2+3+4+5)\n",
    "print(a)\n",
    "print(\"\\n\\t\")\n",
    "\n",
    "\n",
    "#to find the average ages(b)\n",
    "sara=23\n",
    "mark=19\n",
    "fatima=31\n",
    "avg=(sara+mark+fatima)/3\n",
    "print(avg)\n",
    "\n",
    "print(\"\\n\\t\")\n",
    "\n",
    "#c\n",
    "a = 73\n",
    "b = 403\n",
    "c = 403//73\n",
    "print(c)\n",
    "print(\"\\n\\t\")\n",
    "\n",
    "#d\n",
    "a = 403\n",
    "b = 73\n",
    "c = 403/73\n",
    "print(c)\n",
    "print(\"\\n\\t\")\n",
    "\n",
    "#e\n",
    "a = 2**10\n",
    "print(a)\n",
    "print(\"\\n\\t\")\n",
    "\n",
    "#f\n",
    "sara_height= 54 #in inches\n",
    "marks_height=57 #in inches\n",
    "difference=(marks_height - sara_height)\n",
    "print(difference)\n",
    "print(\"\\n\\t\")\n",
    "\n",
    "#g\n",
    "price1= 34.99 #in dollars\n",
    "price2=29.95 #in dollar\n",
    "price3=31.50 #in dollar\n",
    "min(price1,price2,price3)\n"
   ]
  },
  {
   "cell_type": "code",
   "execution_count": 2,
   "metadata": {},
   "outputs": [
    {
     "name": "stdout",
     "output_type": "stream",
     "text": [
      "antbatcod\n",
      "\n",
      "\t\n",
      "('ant', 'bat', 'cod')\n",
      "antantantantantantantantantant\n",
      "\n",
      "\t\n",
      "antantantantantantantantantant\n",
      "ant batbat codcodcod\n",
      "\n",
      "\t\n",
      "antbatbatbatbatcodcodcodcodcodcodcodcodcod\n",
      "('ant', 'bad', 'ant', 'bad', 'ant', 'bad', 'ant', 'bad', 'ant', 'bad', 'ant', 'bad', 'ant', 'bad')\n",
      "batbatcodbatbatcodbatbatcodbatbatcodbatbatcod\n",
      "\n",
      "\t\n",
      "batbatbatbatcodcodcodbatbatbatbatcodcodcodbatbatbatbatcodcodcodbatbatbatbatcodcodcodbatbatbatbatcodcodcod\n"
     ]
    }
   ],
   "source": [
    "#Exercise no 2.4\n",
    "s1=('ant')\n",
    "s2=('bat')\n",
    "s3=('cod')\n",
    "C=(s1+s2+s3)\n",
    "print(C)\n",
    "print(\"\\n\\t\")\n",
    "\n",
    "S1=(s1,s2,s3)*1\n",
    "print(S1)\n",
    "s1=('ant')*10\n",
    "print(s1)\n",
    "\n",
    "print(\"\\n\\t\")\n",
    "\n",
    "a=('ant')\n",
    "print(a+a+a+a+a+a+a+a+a+a)\n",
    "s1=('ant')*1\n",
    "s2=('bat')*2\n",
    "s3=('cod')*3\n",
    "print(s1,s2,s3)\n",
    "\n",
    "print(\"\\n\\t\")\n",
    "\n",
    "\n",
    "B=(s1+s2+s2+s3+s3+s3)\n",
    "print(B)\n",
    "s=('ant','bad')*7\n",
    "print(s)\n",
    "a=(s1+s1+s1+s1+s1+s1+s1+s2+s2+s2+s2+s2+s2+s2)\n",
    "X=('batbatcod')*5\n",
    "print(X)\n",
    "\n",
    "print(\"\\n\\t\")\n",
    "\n",
    "Z=((s2*2)+s3)+((s2*2)+s3)+((s2*2)+s3)+((s2*2)+s3)+((s2*2)+s3)\n",
    "print(Z)"
   ]
  },
  {
   "cell_type": "code",
   "execution_count": 3,
   "metadata": {},
   "outputs": [
    {
     "name": "stdout",
     "output_type": "stream",
     "text": [
      "25\n"
     ]
    }
   ],
   "source": [
    "#2.3\n",
    "x= 3\n",
    "y=4\n",
    "c=(x*x)+(y*y)\n",
    "print(c)"
   ]
  },
  {
   "cell_type": "code",
   "execution_count": 26,
   "metadata": {},
   "outputs": [
    {
     "name": "stdout",
     "output_type": "stream",
     "text": [
      "false\n",
      "\n",
      "\t\n",
      "true\n",
      "\n",
      "\t\n",
      "true\n",
      "\n",
      "\t\n",
      "false\n",
      "\n",
      "\t\n",
      "true\n",
      "\n",
      "\t\n",
      "false\n",
      "\n",
      "\t\n",
      "true\n"
     ]
    }
   ],
   "source": [
    "#Exercise no 2.2\n",
    "a=2\n",
    "b=2\n",
    "sum=a+b\n",
    "if sum<4:\n",
    "    print(true)\n",
    "else:\n",
    "    print('false')\n",
    "print(\"\\n\\t\")\n",
    "\n",
    "\n",
    "a=7//3\n",
    "if a==2:\n",
    "    print('true')\n",
    "else:\n",
    "    print('false')\n",
    "print(\"\\n\\t\")\n",
    "\n",
    "\n",
    "a=3**2\n",
    "b=4**2\n",
    "c=(a+b)\n",
    "if c==25:\n",
    "    print('true')\n",
    "else:\n",
    "    print('false')\n",
    "print(\"\\n\\t\")\n",
    "\n",
    "\n",
    "a=2\n",
    "b=4\n",
    "c=6\n",
    "d=(a+b+c)\n",
    "if d>12:\n",
    "    print('true')\n",
    "else:\n",
    "    print('false')\n",
    "print(\"\\n\\t\")\n",
    "\n",
    "\n",
    "a=1387\n",
    "b=19\n",
    "c=a/b\n",
    "if c==a/b: \n",
    "    print('true')\n",
    "else:\n",
    "    print('false')\n",
    "print(\"\\n\\t\")\n",
    "\n",
    "\n",
    "a=31\n",
    "b=a/2\n",
    "if b==31/2:\n",
    "    print('false')\n",
    "else:\n",
    "    print('true')\n",
    "print(\"\\n\\t\")\n",
    "\n",
    "\n",
    "a=34.99 #in dollars\n",
    "b=29.95 #in dollars\n",
    "c=31.50 #in dollars\n",
    "min(a,b,c)\n",
    "if min(a,b,c)< 30.00:\n",
    "    print('true')\n",
    "else:\n",
    "    print('false')"
   ]
  },
  {
   "cell_type": "code",
   "execution_count": 43,
   "metadata": {},
   "outputs": [
    {
     "name": "stdout",
     "output_type": "stream",
     "text": [
      "0\n",
      "1\n",
      "6\n",
      "8\n",
      "9\n"
     ]
    }
   ],
   "source": [
    "#Exercise no 2.5\n",
    "#write an expression using string\n",
    "a =(\"0123456789\")\n",
    "a[0]\n",
    "print(a[0])\n",
    "a[1]\n",
    "print(a[1])\n",
    "a[2]\n",
    "print(a[6])\n",
    "a[3]\n",
    "print(a[8])\n",
    "a[4]\n",
    "print(a[9])"
   ]
  },
  {
   "cell_type": "code",
   "execution_count": 37,
   "metadata": {},
   "outputs": [
    {
     "data": {
      "text/plain": [
       "{'badminton', 'ball', 'barn', 'basket', 'bat'}"
      ]
     },
     "execution_count": 37,
     "metadata": {},
     "output_type": "execute_result"
    }
   ],
   "source": [
    "#Exercise no 2.6\n",
    "words= {'bat','ball','barn','basket','badminton'}\n",
    "(words)"
   ]
  },
  {
   "cell_type": "code",
   "execution_count": 41,
   "metadata": {},
   "outputs": [
    {
     "name": "stdout",
     "output_type": "stream",
     "text": [
      "2\n",
      "\n",
      "\t\n",
      "4\n",
      "\n",
      "\t\n",
      "10\n",
      "\n",
      "\t\n",
      "None\n",
      "\n",
      "\t\n",
      "6.777777777777778\n"
     ]
    }
   ],
   "source": [
    "#exercise no 2.7\n",
    "grades=[9,7,7,10,3,9,6,6,2]\n",
    "#a\n",
    "a=grades.count(7)\n",
    "print(a)\n",
    "print(\"\\n\\t\")\n",
    "\n",
    "#b\n",
    "a=grades[-1]=4\n",
    "print(a)\n",
    "print(\"\\n\\t\")\n",
    "\n",
    "\n",
    "#c\n",
    "a=max(grades)\n",
    "print(a)\n",
    "print(\"\\n\\t\")\n",
    "\n",
    "\n",
    "#d\n",
    "a= grades.sort()\n",
    "print(a)\n",
    "print(\"\\n\\t\")\n",
    "\n",
    "\n",
    "#e\n",
    "import statistics\n",
    "print(statistics.mean(grades))"
   ]
  },
  {
   "cell_type": "code",
   "execution_count": 77,
   "metadata": {},
   "outputs": [
    {
     "name": "stdout",
     "output_type": "stream",
     "text": [
      "a) ((2+3) ==4) or (a >=5)\n",
      "b) (((lst[1]) * (-3)) <(-10)) ==0\n",
      "c) (((lst[1]) * (-3)) <(-10)) in [0,true]\n",
      "d) 2 * (3**2)\n",
      "e) (4/2) in [1,2,3]\n"
     ]
    }
   ],
   "source": [
    "#exercise 2.8\n",
    "print('a)','((2+3) ==4) or (a >=5)')\n",
    "print('b)','(((lst[1]) * (-3)) <(-10)) ==0')\n",
    "print('c)',\"(((lst[1]) * (-3)) <(-10)) in [0,true]\")\n",
    "print('d)','2 * (3**2)')\n",
    "print('e)','(4/2) in [1,2,3]')"
   ]
  },
  {
   "cell_type": "code",
   "execution_count": 48,
   "metadata": {},
   "outputs": [
    {
     "name": "stdout",
     "output_type": "stream",
     "text": [
      "<class 'int'>\n",
      "<class 'float'>\n",
      "<class 'int'>\n",
      "<class 'bool'>\n"
     ]
    }
   ],
   "source": [
    "#exercise 2.9\n",
    "a=False+False\n",
    "print(type(a))\n",
    "(b)\n",
    "b=2*3**2.0\n",
    "print(type(b))\n",
    "(c)\n",
    "c = 4//2+4%2\n",
    "print(type(c))\n",
    "d=2+3==4 or 5>=5\n",
    "print(type(d))\n"
   ]
  },
  {
   "cell_type": "code",
   "execution_count": 49,
   "metadata": {},
   "outputs": [
    {
     "name": "stdout",
     "output_type": "stream",
     "text": [
      "8\n",
      "false\n",
      "28.274333882308138m^2\n",
      "False\n",
      "False\n"
     ]
    }
   ],
   "source": [
    "#exercise 2.10\n",
    "a= 2\n",
    "b=2\n",
    "c=a**2 + b**2\n",
    "print(c)\n",
    "#b\n",
    "if c==5:\n",
    "    print('true')\n",
    "else:\n",
    "    print('false')\n",
    "#c\n",
    "from math import pi\n",
    "r=3\n",
    "area=pi*r**2\n",
    "print(str(area)+'m^2')\n",
    "#d\n",
    "r=10\n",
    "x=2\n",
    "y=1\n",
    "a=x+y==r\n",
    "b=x**2+y**2==r**2\n",
    "print(a)\n",
    "print(b)"
   ]
  },
  {
   "cell_type": "code",
   "execution_count": null,
   "metadata": {},
   "outputs": [],
   "source": []
  }
 ],
 "metadata": {
  "kernelspec": {
   "display_name": "Python 3",
   "language": "python",
   "name": "python3"
  },
  "language_info": {
   "codemirror_mode": {
    "name": "ipython",
    "version": 3
   },
   "file_extension": ".py",
   "mimetype": "text/x-python",
   "name": "python",
   "nbconvert_exporter": "python",
   "pygments_lexer": "ipython3",
   "version": "3.7.4"
  }
 },
 "nbformat": 4,
 "nbformat_minor": 2
}
