{
 "cells": [
  {
   "cell_type": "markdown",
   "metadata": {},
   "source": [
    "# QUESTION NO:1"
   ]
  },
  {
   "cell_type": "code",
   "execution_count": 1,
   "metadata": {},
   "outputs": [
    {
     "name": "stdout",
     "output_type": "stream",
     "text": [
      "{'123-45-67', '345-67-89', '234-56-78'}\n",
      "The length of phonebook1 is:  3\n",
      "The given phonebook1 is:  {'123-45-67', '345-67-89', '234-56-78'}\n"
     ]
    }
   ],
   "source": [
    "phonebook1 = {'123-45-67' , '234-56-78' , '345-67-89' , '123-45-67' , '345-67-89'}\n",
    "print(phonebook1)\n",
    "set_len = len(phonebook1)\n",
    "print (\"The length of phonebook1 is: \", set_len)\n",
    "print (\"The given phonebook1 is: \",phonebook1)"
   ]
  },
  {
   "cell_type": "markdown",
   "metadata": {},
   "source": [
    "# QUESTION NO:2"
   ]
  },
  {
   "cell_type": "code",
   "execution_count": 2,
   "metadata": {},
   "outputs": [
    {
     "name": "stdout",
     "output_type": "stream",
     "text": [
      "{'Usman Institute Of Technology', 17.5, (1, 2, 3, 4, 5, 6)}\n",
      "The length of  mix data is:  3\n"
     ]
    }
   ],
   "source": [
    "mix_data = {'Usman Institute Of Technology', 17.5, (1,2,3,4,5,6)}\n",
    "print(mix_data)\n",
    "set_len = len(mix_data)\n",
    "print(\"The length of  mix data is: \",set_len)"
   ]
  },
  {
   "cell_type": "markdown",
   "metadata": {},
   "source": [
    "# QUESTION NO:3"
   ]
  },
  {
   "cell_type": "code",
   "execution_count": 3,
   "metadata": {},
   "outputs": [
    {
     "name": "stdout",
     "output_type": "stream",
     "text": [
      "For a Data Scientist specialization you need: {'SQL', 'Python', 'SAS', 'Tableau', 'R', 'Git'}\n",
      "For a Data Engineer specialization you need: {'Scala', 'SQL', 'Python', 'Java', 'Hadhoop', 'Git'}\n"
     ]
    }
   ],
   "source": [
    "dataScientist = set(['Python', 'R' , 'SQL' , 'Git' , 'Tableau' , 'SAS'])\n",
    "dataEngineer = set(['Python' , 'Java' , 'Scala' , 'Git' , 'SQL' , 'Hadhoop'])\n",
    "print (\"For a Data Scientist specialization you need:\",dataScientist)\n",
    "print (\"For a Data Engineer specialization you need:\",dataEngineer)\n",
    "\n"
   ]
  },
  {
   "cell_type": "markdown",
   "metadata": {},
   "source": [
    "# QUESTION NO:4"
   ]
  },
  {
   "cell_type": "code",
   "execution_count": 4,
   "metadata": {},
   "outputs": [
    {
     "name": "stdout",
     "output_type": "stream",
     "text": [
      "set()\n",
      "{}\n",
      "{}\n"
     ]
    }
   ],
   "source": [
    "My_empty_set = set()\n",
    "My_empty_dictionary1 = dict()\n",
    "My_empty_dictionary2 = {}\n",
    "\n",
    "print(My_empty_set)\n",
    "print(My_empty_dictionary1)\n",
    "print(My_empty_dictionary2)"
   ]
  },
  {
   "cell_type": "markdown",
   "metadata": {},
   "source": [
    "# QUESTION NO:5"
   ]
  },
  {
   "cell_type": "code",
   "execution_count": 7,
   "metadata": {},
   "outputs": [
    {
     "name": "stdout",
     "output_type": "stream",
     "text": [
      "My top scoring in programming fundamental are: {'Rafeh', 'Usman', 'Asma', 'Wadood', 'Yusra', 'Bassam', 'Ahad'}\n",
      "oh, I guess I miss one student, let me add his name too\n",
      "previously i have added :7student in my list\n",
      "Thanks,I have remember him\n",
      "Now my top scoring students names are : {'Rafeh', 'Usman', 'Asma', 'Wadood', 'Yusra', 'Bassam', 'Khurram', 'Ahad'}\n",
      "Now after adding i have :8students in my list\n"
     ]
    }
   ],
   "source": [
    "My_topStudents = {'Bassam','Usman','Rafeh','Ahad','Wadood','Yusra','Asma'}\n",
    "print(\"My top scoring in programming fundamental are:\",My_topStudents)\n",
    "print('oh, I guess I miss one student, let me add his name too')\n",
    "print('previously i have added :'+ str(len(My_topStudents))+'student in my list')\n",
    "My_topStudents.add('Khurram')\n",
    "print('Thanks,I have remember him')\n",
    "print('Now my top scoring students names are :', My_topStudents)\n",
    "print('Now after adding i have :'+str(len(My_topStudents)) +'students in my list')"
   ]
  },
  {
   "cell_type": "markdown",
   "metadata": {},
   "source": [
    "# QUESTION NO:6"
   ]
  },
  {
   "cell_type": "code",
   "execution_count": 9,
   "metadata": {},
   "outputs": [
    {
     "name": "stdout",
     "output_type": "stream",
     "text": [
      "My top scoring in programming fundamental are: {'Rafeh', 'Usman', 'Asma', 'Wadood', 'Yusra', 'Bassam', 'Ahad'}\n",
      "oh, I guess I miss one student, let me add his name too\n",
      "previously i have added :7student in my list\n",
      "Thanks,I have remember him\n",
      "Now my top scoring students names are : {'Rafeh', 'Khurram Khan', 'Usman', 'Asma', 'Wadood', 'Khurram Khalil', 'Yusra', 'Bassam', 'Ahad'}\n",
      "Now after adding i have :9students in my list\n",
      "oh, I guess I have added one student with similar name, let me remove his name.\n",
      "Now my top scoring students name after removing extra name are: {'Rafeh', 'Khurram Khan', 'Usman', 'Asma', 'Wadood', 'Yusra', 'Bassam', 'Ahad'}\n",
      "Now after removing i have :8students in my list\n",
      "None\n"
     ]
    }
   ],
   "source": [
    "My_topStudents = {'Bassam','Usman','Rafeh','Ahad','Wadood','Yusra','Asma'}\n",
    "print(\"My top scoring in programming fundamental are:\",My_topStudents)\n",
    "print('oh, I guess I miss one student, let me add his name too')\n",
    "print('previously i have added :'+ str(len(My_topStudents))+'student in my list')\n",
    "My_topStudents.add('Khurram Khalil')\n",
    "My_topStudents.add('Khurram Khan')\n",
    "print('Thanks,I have remember him')\n",
    "print('Now my top scoring students names are :', My_topStudents)\n",
    "print('Now after adding i have :'+str(len(My_topStudents)) +'students in my list')\n",
    "print('oh, I guess I have added one student with similar name, let me remove his name.')\n",
    "My_topStudents.remove('Khurram Khalil')\n",
    "print('Now my top scoring students name after removing extra name are:', My_topStudents)\n",
    "print(print('Now after removing i have :'+str(len(My_topStudents)) +'students in my list')\n",
    ")\n"
   ]
  },
  {
   "cell_type": "markdown",
   "metadata": {},
   "source": [
    "# QUESTION NO:7"
   ]
  },
  {
   "cell_type": "code",
   "execution_count": 10,
   "metadata": {},
   "outputs": [
    {
     "name": "stdout",
     "output_type": "stream",
     "text": [
      "My top scoring in programming fundamental are: {'Rafeh', 'Usman', 'Asma', 'Wadood', 'Yusra', 'Bassam', 'Ahad'}\n",
      "oh, I guess I miss one student, let me add his name too\n",
      "previously i have added :7student in my list\n",
      "Thanks,I have remember him\n",
      "Now my top scoring students names are : {'Rafeh', 'Khurram Khan', 'Usman', 'Asma', 'Wadood', 'Khurram Khalil', 'Yusra', 'Bassam', 'Ahad'}\n",
      "Now after adding i have :9students in my list\n",
      "oh, I guess I have added one student with similar name, let me remove his name.\n",
      "Now my top scoring students name after removing extra name are: {'Rafeh', 'Khurram Khan', 'Usman', 'Asma', 'Wadood', 'Yusra', 'Bassam', 'Ahad'}\n",
      "Now after removing i have :8students in my list\n",
      "None\n",
      "Now my top scoring students name after removing extra name are: {'Rafeh', 'Khurram Khan', 'Usman', 'Asma', 'Wadood', 'Yusra', 'Bassam', 'Ahad'}\n",
      "Now after removing i have :8students in my list\n",
      "None\n"
     ]
    }
   ],
   "source": [
    "My_topStudents = {'Bassam','Usman','Rafeh','Ahad','Wadood','Yusra','Asma'}\n",
    "print(\"My top scoring in programming fundamental are:\",My_topStudents)\n",
    "print('oh, I guess I miss one student, let me add his name too')\n",
    "print('previously i have added :'+ str(len(My_topStudents))+'student in my list')\n",
    "My_topStudents.add('Khurram Khalil')\n",
    "My_topStudents.add('Khurram Khan')\n",
    "print('Thanks,I have remember him')\n",
    "print('Now my top scoring students names are :', My_topStudents)\n",
    "print('Now after adding i have :'+str(len(My_topStudents)) +'students in my list')\n",
    "print('oh, I guess I have added one student with similar name, let me remove his name.')\n",
    "My_topStudents.remove('Khurram Khalil')\n",
    "print('Now my top scoring students name after removing extra name are:', My_topStudents)\n",
    "print(print('Now after removing i have :'+str(len(My_topStudents)) +'students in my list'))\n",
    "My_topStudents.discard('Khurram Khalil')\n",
    "print('Now my top scoring students name after removing extra name are:', My_topStudents)\n",
    "print(print('Now after removing i have :'+str(len(My_topStudents)) +'students in my list'))"
   ]
  },
  {
   "cell_type": "markdown",
   "metadata": {},
   "source": [
    "# QUESTION NO:8"
   ]
  },
  {
   "cell_type": "code",
   "execution_count": 12,
   "metadata": {},
   "outputs": [
    {
     "name": "stdout",
     "output_type": "stream",
     "text": [
      "My top scoring in programming fundamental are: {'Rafeh', 'Usman', 'Asma', 'Wadood', 'Yusra', 'Bassam', 'Ahad'}\n",
      "oh, I guess I miss one student, let me add his name too\n",
      "previously i have added :7student in my list\n",
      "Thanks,I have remember him\n",
      "Now my top scoring students names are : {'Rafeh', 'Khurram Khan', 'Usman', 'Asma', 'Wadood', 'Khurram Khalil', 'Yusra', 'Bassam', 'Ahad'}\n",
      "Now after adding i have :9students in my list\n",
      "oh, I guess I have added one student with similar name, let me remove his name.\n",
      "Now my top scoring students name after removing extra name are: {'Rafeh', 'Khurram Khan', 'Usman', 'Asma', 'Wadood', 'Yusra', 'Bassam', 'Ahad'}\n",
      "Now after removing i have :8students in my list\n",
      "None\n",
      "Now my top scoring students name after removing extra name are: {'Rafeh', 'Khurram Khan', 'Usman', 'Asma', 'Wadood', 'Yusra', 'Bassam', 'Ahad'}\n",
      "Now after removing i have :8students in my list\n",
      "None\n",
      "Now my top scoring students name after removing extra name are: {'Khurram Khan', 'Usman', 'Asma', 'Wadood', 'Yusra', 'Bassam', 'Ahad'}\n",
      "Now after removing i have :7students in my list\n",
      "None\n"
     ]
    }
   ],
   "source": [
    "My_topStudents = {'Bassam','Usman','Rafeh','Ahad','Wadood','Yusra','Asma'}\n",
    "print(\"My top scoring in programming fundamental are:\",My_topStudents)\n",
    "print('oh, I guess I miss one student, let me add his name too')\n",
    "print('previously i have added :'+ str(len(My_topStudents))+'student in my list')\n",
    "My_topStudents.add('Khurram Khalil')\n",
    "My_topStudents.add('Khurram Khan')\n",
    "print('Thanks,I have remember him')\n",
    "print('Now my top scoring students names are :', My_topStudents)\n",
    "print('Now after adding i have :'+str(len(My_topStudents)) +'students in my list')\n",
    "print('oh, I guess I have added one student with similar name, let me remove his name.')\n",
    "My_topStudents.remove('Khurram Khalil')\n",
    "print('Now my top scoring students name after removing extra name are:', My_topStudents)\n",
    "print(print('Now after removing i have :'+str(len(My_topStudents)) +'students in my list'))\n",
    "My_topStudents.discard('Khurram Khalil')\n",
    "print('Now my top scoring students name after removing extra name are:', My_topStudents)\n",
    "print(print('Now after removing i have :'+str(len(My_topStudents)) +'students in my list'))\n",
    "My_topStudents.pop()\n",
    "print('Now my top scoring students name after removing extra name are:', My_topStudents)\n",
    "print(print('Now after removing i have :'+str(len(My_topStudents)) +'students in my list'))\n"
   ]
  },
  {
   "cell_type": "markdown",
   "metadata": {},
   "source": [
    "# QUESTION NO:9"
   ]
  },
  {
   "cell_type": "code",
   "execution_count": 13,
   "metadata": {},
   "outputs": [
    {
     "name": "stdout",
     "output_type": "stream",
     "text": [
      "My top scoring in programming fundamental are: {'Rafeh', 'Usman', 'Asma', 'Wadood', 'Yusra', 'Bassam', 'Ahad'}\n",
      "Lets clear this list and prepare new list for the final exams\n",
      "Noe after clearing the set I have : None\n"
     ]
    }
   ],
   "source": [
    "My_topStudents = {'Bassam','Usman','Rafeh','Ahad','Wadood','Yusra','Asma'}\n",
    "print(\"My top scoring in programming fundamental are:\",My_topStudents)\n",
    "print(\"Lets clear this list and prepare new list for the final exams\")\n",
    "My_topStudents = My_topStudents.clear()\n",
    "print('Noe after clearing the set I have :', My_topStudents)"
   ]
  },
  {
   "cell_type": "markdown",
   "metadata": {},
   "source": [
    "# QUESTION NO:10"
   ]
  },
  {
   "cell_type": "code",
   "execution_count": 14,
   "metadata": {},
   "outputs": [
    {
     "name": "stdout",
     "output_type": "stream",
     "text": [
      "Phonebook1 is: {'123-45-67', '345-67-89', '234-56-78'}\n",
      "Phonebook3 is: {'456-78-90', '345-67-89'}\n",
      "The Union of Phonebook1 and Phonebook3: {'123-45-67', '456-78-90', '234-56-78', '345-67-89'}\n",
      "The Union of Phonebook3 and Phonebook1: {'123-45-67', '345-67-89', '234-56-78', '456-78-90'}\n",
      "The intersection of Phonebook1 and Phonebook3: {'345-67-89'}\n",
      "The intersection of Phonebook3 and Phonebook1: {'345-67-89'}\n",
      "The difference between Phonebook1 and Phonebook3: {'123-45-67', '234-56-78'}\n",
      "The difference between Phonebook3 and Phonebook1: {'456-78-90'}\n",
      "The symmetric Difference between Phonebook1 and Phonebook3: {'456-78-90', '234-56-78', '123-45-67'}\n",
      "The symmetric Difference between Phonebook3 and Phonebook1: {'123-45-67', '456-78-90', '234-56-78'}\n"
     ]
    }
   ],
   "source": [
    "phonebook1 = {'123-45-67' , '234-56-78' , '345-67-89' , '123-45-67' , '345-67-89'}\n",
    "phonebook3 = {'345-67-89','456-78-90'}\n",
    "print(\"Phonebook1 is:\",phonebook1)\n",
    "print(\"Phonebook3 is:\",phonebook3)\n",
    "print(\"The Union of Phonebook1 and Phonebook3:\",phonebook1 | phonebook3)\n",
    "print(\"The Union of Phonebook3 and Phonebook1:\",phonebook3 | phonebook1)\n",
    "\n",
    "print(\"The intersection of Phonebook1 and Phonebook3:\",phonebook1 & phonebook3)\n",
    "print(\"The intersection of Phonebook3 and Phonebook1:\",phonebook3 & phonebook1)\n",
    "print(\"The difference between Phonebook1 and Phonebook3:\",phonebook1 - phonebook3)\n",
    "print(\"The difference between Phonebook3 and Phonebook1:\",phonebook3 - phonebook1)\n",
    "print(\"The symmetric Difference between Phonebook1 and Phonebook3:\",phonebook1 ^ phonebook3)\n",
    "print(\"The symmetric Difference between Phonebook3 and Phonebook1:\",phonebook3 ^ phonebook1)\n",
    "\n",
    "\n",
    "\n",
    "\n"
   ]
  },
  {
   "cell_type": "markdown",
   "metadata": {},
   "source": [
    "# TASK NO:1 write a program of 5 student name "
   ]
  },
  {
   "cell_type": "code",
   "execution_count": 29,
   "metadata": {},
   "outputs": [
    {
     "name": "stdout",
     "output_type": "stream",
     "text": [
      "{'Jazbia'}\n",
      "{'Barirah', 'Jazbia'}\n",
      "{'Barirah', 'Jazbia', 'Anita'}\n",
      "{'Shajia', 'Barirah', 'Jazbia', 'Anita'}\n",
      "{'Jazbia', 'Barirah', 'Anita', 'Shajia', 'Muneeba'}\n"
     ]
    }
   ],
   "source": [
    "Best_studentName = {'Muneeba','Barirah','Shajia','Anita','Jazbia'}\n",
    "empty_list = set()\n",
    "for i in Best_studentName:\n",
    "    empty_list.add(i)\n",
    "    print(empty_list)\n",
    "\n",
    "\n"
   ]
  },
  {
   "cell_type": "markdown",
   "metadata": {},
   "source": [
    "# TASK NO:2"
   ]
  },
  {
   "cell_type": "code",
   "execution_count": 34,
   "metadata": {},
   "outputs": [
    {
     "name": "stdout",
     "output_type": "stream",
     "text": [
      "friends are in uit is: {'Jazbia', 'Barirah', 'Anita', 'Shajia', 'Muneeba'}\n",
      "oh, i remember my two friends left uit last month\n",
      "Friends in uit are: {'Jazbia', 'Shajia', 'Muneeba'}\n"
     ]
    }
   ],
   "source": [
    "friends = {'Muneeba','Barirah','Shajia','Anita','Jazbia'}\n",
    "print('friends are in uit is:',friends)\n",
    "print('oh, i remember my two friends left uit last month')\n",
    "friends.remove('Anita')\n",
    "friends.remove('Barirah')\n",
    "print('Friends in uit are:',friends)\n"
   ]
  },
  {
   "cell_type": "markdown",
   "metadata": {},
   "source": [
    "# TASK NO:3"
   ]
  },
  {
   "cell_type": "code",
   "execution_count": 62,
   "metadata": {},
   "outputs": [
    {
     "name": "stdout",
     "output_type": "stream",
     "text": [
      "{'pulao', 'chineese rice', 'qeema'}\n",
      "{'chineese rice', 'qeema'}\n",
      "{'qeema'}\n",
      "set()\n"
     ]
    }
   ],
   "source": [
    "Best_Dishes = {'biryani','pulao','chineese rice','qeema'}\n",
    "empty_list = set()\n",
    "Best_Dishes.pop()\n",
    "print(Best_Dishes)\n",
    "Best_Dishes.pop()\n",
    "print(Best_Dishes)\n",
    "Best_Dishes.pop()\n",
    "print(Best_Dishes)\n",
    "Best_Dishes.pop()\n",
    "print(Best_Dishes)\n",
    "\n",
    "\n",
    "\n",
    "\n"
   ]
  },
  {
   "cell_type": "markdown",
   "metadata": {},
   "source": [
    "# TASK NO:4"
   ]
  },
  {
   "cell_type": "code",
   "execution_count": 1,
   "metadata": {},
   "outputs": [
    {
     "name": "stdout",
     "output_type": "stream",
     "text": [
      "Enter how many iphone sold:1\n",
      "Enter how many samsung sold:2\n",
      "Enter how many nokia sold:3\n",
      "Enter how many honor sold:4\n",
      "{'iphone'}\n",
      "{'iphone', 'samsung'}\n",
      "{'iphone', 'samsung', 'nokia'}\n",
      "{'honor', 'iphone', 'samsung', 'nokia'}\n",
      "honor sold most 4\n",
      "iphone sold least 1\n"
     ]
    }
   ],
   "source": [
    "items = {'iphone':'1234','samsung':'6789','nokia':'9876','honor':'09876'}\n",
    "a=input(\"Enter how many iphone sold:\")\n",
    "b=input(\"Enter how many samsung sold:\")\n",
    "c=input(\"Enter how many nokia sold:\")\n",
    "d=input(\"Enter how many honor sold:\")\n",
    "empty_list = set()\n",
    "for i in items:\n",
    "    empty_list.add(i)\n",
    "    print(empty_list)\n",
    "lst=[a,b,c,d]\n",
    "min(lst)\n",
    "max(lst)\n",
    "print('honor sold most',max(lst))\n",
    "print('iphone sold least',min(lst))"
   ]
  },
  {
   "cell_type": "markdown",
   "metadata": {},
   "source": [
    "# TASK NO:5"
   ]
  },
  {
   "cell_type": "code",
   "execution_count": 9,
   "metadata": {},
   "outputs": [
    {
     "name": "stdout",
     "output_type": "stream",
     "text": [
      "{'shaheen', 'janzib', 'jamshed', 'afridi', 'fahad', 'salah', 'babar'}\n",
      "{'saad', 'hanan', 'abad', 'zain', 'hammad', 'shazil', 'atta', 'hadi'}\n",
      "universal set is: 40\n",
      "Some of student play both: 21\n",
      "Enter the students who played hockey: 10\n"
     ]
    },
    {
     "ename": "AttributeError",
     "evalue": "'str' object has no attribute 'difference'",
     "output_type": "error",
     "traceback": [
      "\u001b[1;31m---------------------------------------------------------------------------\u001b[0m",
      "\u001b[1;31mAttributeError\u001b[0m                            Traceback (most recent call last)",
      "\u001b[1;32m<ipython-input-9-938b4bff05f6>\u001b[0m in \u001b[0;36m<module>\u001b[1;34m\u001b[0m\n\u001b[0;32m      6\u001b[0m \u001b[0mx\u001b[0m \u001b[1;33m=\u001b[0m \u001b[0minput\u001b[0m\u001b[1;33m(\u001b[0m\u001b[1;34m\"Some of student play both: \"\u001b[0m\u001b[1;33m)\u001b[0m\u001b[1;33m\u001b[0m\u001b[1;33m\u001b[0m\u001b[0m\n\u001b[0;32m      7\u001b[0m \u001b[0ma\u001b[0m \u001b[1;33m=\u001b[0m \u001b[0minput\u001b[0m\u001b[1;33m(\u001b[0m\u001b[1;34m\"Enter the students who played hockey: \"\u001b[0m\u001b[1;33m)\u001b[0m\u001b[1;33m\u001b[0m\u001b[1;33m\u001b[0m\u001b[0m\n\u001b[1;32m----> 8\u001b[1;33m \u001b[0mprint\u001b[0m \u001b[1;33m(\u001b[0m\u001b[0mu\u001b[0m\u001b[1;33m.\u001b[0m\u001b[0mdifference\u001b[0m\u001b[1;33m(\u001b[0m\u001b[0mx\u001b[0m\u001b[1;33m)\u001b[0m\u001b[1;33m)\u001b[0m\u001b[1;33m\u001b[0m\u001b[1;33m\u001b[0m\u001b[0m\n\u001b[0m\u001b[0;32m      9\u001b[0m \u001b[0mprint\u001b[0m \u001b[1;33m(\u001b[0m\u001b[0mx\u001b[0m\u001b[1;33m.\u001b[0m\u001b[0mdifference\u001b[0m\u001b[1;33m(\u001b[0m\u001b[0mu\u001b[0m\u001b[1;33m)\u001b[0m\u001b[1;33m)\u001b[0m\u001b[1;33m\u001b[0m\u001b[1;33m\u001b[0m\u001b[0m\n",
      "\u001b[1;31mAttributeError\u001b[0m: 'str' object has no attribute 'difference'"
     ]
    }
   ],
   "source": [
    "A = {'zafir','arkam','ahmed','shehzad','ali','faisal','jamshed','fahad','salah','shaheen','afridi','babar','janzib','saleem','shehroz','malik'} \n",
    "B = {'abad','atta','hanan','hammad','shazil','hadi','zain','saad','faisal','ali','shehzad','ahmed','arkam','zafir','saleem','shehroz','malik'} \n",
    "print (A.difference(B)) \n",
    "print (B.difference(A))\n",
    "u = input(\"universal set is: \")\n",
    "x = input(\"Some of student play both: \")\n",
    "a = input(\"Enter the students who played hockey: \")\n",
    "print (u.difference(x))\n",
    "print (x.difference(u))"
   ]
  },
  {
   "cell_type": "code",
   "execution_count": null,
   "metadata": {},
   "outputs": [],
   "source": []
  }
 ],
 "metadata": {
  "kernelspec": {
   "display_name": "Python 3",
   "language": "python",
   "name": "python3"
  },
  "language_info": {
   "codemirror_mode": {
    "name": "ipython",
    "version": 3
   },
   "file_extension": ".py",
   "mimetype": "text/x-python",
   "name": "python",
   "nbconvert_exporter": "python",
   "pygments_lexer": "ipython3",
   "version": "3.7.4"
  }
 },
 "nbformat": 4,
 "nbformat_minor": 2
}
