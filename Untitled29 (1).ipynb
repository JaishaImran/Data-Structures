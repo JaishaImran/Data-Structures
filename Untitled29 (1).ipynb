{
 "cells": [
  {
   "cell_type": "code",
   "execution_count": 1,
   "metadata": {},
   "outputs": [
    {
     "name": "stdout",
     "output_type": "stream",
     "text": [
      "A+\n",
      "80.0\n",
      "A\n",
      "70.0\n",
      "B\n",
      "60.0\n",
      "C\n",
      "50.0\n",
      "failed\n"
     ]
    }
   ],
   "source": [
    "#question no 5\n",
    "\n",
    "def function1(obtained_marks,total_marks):\n",
    "    percentage =( obtained_marks /total_marks) *100\n",
    "    if percentage>=80:\n",
    "        print(\"A+\")\n",
    "        return percentage\n",
    "    if percentage>=70:\n",
    "        print(\"A\")\n",
    "        return percentage\n",
    "    if percentage >=60:\n",
    "        print(\"B\")\n",
    "        return percentage\n",
    "    if percentage >=50:\n",
    "        print('C')\n",
    "        return percentage\n",
    "    else:\n",
    "        print(\"failed\")\n",
    "    \n",
    "a =function1(400,500)\n",
    "print(a)\n",
    "b =function1(350,500)\n",
    "print(b)\n",
    "c = function1(300,500)\n",
    "print(c)\n",
    "d = function1(250,500)\n",
    "print(d)\n",
    "e = function1(200,500)"
   ]
  },
  {
   "cell_type": "code",
   "execution_count": 2,
   "metadata": {},
   "outputs": [
    {
     "name": "stdout",
     "output_type": "stream",
     "text": [
      "1859.6938775510203\n"
     ]
    }
   ],
   "source": [
    "#question no 7\n",
    "\n",
    "def function1(u,sinx,g):\n",
    "    return(u**2*(sinx)**2/g)\n",
    "from math import sin\n",
    "a = function1(3,45,9.8)\n",
    "print(a)"
   ]
  },
  {
   "cell_type": "code",
   "execution_count": null,
   "metadata": {},
   "outputs": [],
   "source": []
  }
 ],
 "metadata": {
  "kernelspec": {
   "display_name": "Python 3",
   "language": "python",
   "name": "python3"
  },
  "language_info": {
   "codemirror_mode": {
    "name": "ipython",
    "version": 3
   },
   "file_extension": ".py",
   "mimetype": "text/x-python",
   "name": "python",
   "nbconvert_exporter": "python",
   "pygments_lexer": "ipython3",
   "version": "3.7.4"
  }
 },
 "nbformat": 4,
 "nbformat_minor": 2
}
