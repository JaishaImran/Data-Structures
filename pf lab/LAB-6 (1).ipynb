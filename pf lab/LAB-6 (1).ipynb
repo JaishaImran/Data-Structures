{
 "cells": [
  {
   "cell_type": "markdown",
   "metadata": {},
   "source": [
    "# LAB 6,JAISHA IMRAN 19B-059-SE"
   ]
  },
  {
   "cell_type": "markdown",
   "metadata": {},
   "source": [
    "# 01"
   ]
  },
  {
   "cell_type": "code",
   "execution_count": 24,
   "metadata": {},
   "outputs": [
    {
     "data": {
      "text/plain": [
       "'Monday, November 25 2019'"
      ]
     },
     "execution_count": 24,
     "metadata": {},
     "output_type": "execute_result"
    }
   ],
   "source": [
    "import time\n",
    "def strftime(day, min, date, yr):\n",
    "    c = '{0}, {1} {2} {3}'.format(day, min, date, yr)\n",
    "    return c\n",
    "strftime('Monday', 'November', '25', '2019')"
   ]
  },
  {
   "cell_type": "code",
   "execution_count": 23,
   "metadata": {},
   "outputs": [
    {
     "data": {
      "text/plain": [
       "'9: 40 PM Central Daylight Time on 11/25/2019'"
      ]
     },
     "execution_count": 23,
     "metadata": {},
     "output_type": "execute_result"
    }
   ],
   "source": [
    "import time\n",
    "def strftime(h, m, a, c, d, t, o, date):\n",
    "    b = '{0}: {1} {2} {3} {4} {5} {6} {7}'.format(h, m, a, c, d, t, o, date)\n",
    "    return b\n",
    "strftime(9, 40, 'PM', 'Central', 'Daylight', 'Time', 'on', '11/25/2019' )"
   ]
  },
  {
   "cell_type": "code",
   "execution_count": 26,
   "metadata": {},
   "outputs": [
    {
     "data": {
      "text/plain": [
       "'I will meet you on, Thurs, 40, 13, at, 9, 40, PM'"
      ]
     },
     "execution_count": 26,
     "metadata": {},
     "output_type": "execute_result"
    }
   ],
   "source": [
    "import time\n",
    "def strftime(s, day, mon, date, a, hr, min, p):\n",
    "    w = '{0}, {1}, {2}, {3}, {4}, {5}, {6}, {7}'.format(s, day, min, date, a, hr, min, p)\n",
    "    return w\n",
    "strftime('I will meet you on', 'Thurs', 'July', 13, 'at', 9, 40, 'PM')"
   ]
  },
  {
   "cell_type": "markdown",
   "metadata": {},
   "source": [
    "# 02"
   ]
  },
  {
   "cell_type": "code",
   "execution_count": 19,
   "metadata": {},
   "outputs": [
    {
     "data": {
      "text/plain": [
       "(2, 13, 'It will be a cloudy day today')"
      ]
     },
     "execution_count": 19,
     "metadata": {},
     "output_type": "execute_result"
    }
   ],
   "source": [
    "def a(forecast):\n",
    "    count = forecast.count('day')\n",
    "    weather = forecast.find('sunny')\n",
    "    change = forecast.replace('sunny', 'cloudy')\n",
    "    return count, weather, change\n",
    "\n",
    "a('It will be a sunny day today')"
   ]
  },
  {
   "cell_type": "markdown",
   "metadata": {},
   "source": [
    "# 03"
   ]
  },
  {
   "cell_type": "code",
   "execution_count": 42,
   "metadata": {
    "scrolled": true
   },
   "outputs": [
    {
     "name": "stdout",
     "output_type": "stream",
     "text": [
      "Enter the value: 17\n",
      "2 3 4 6 8 9 10 12 14 15 16 "
     ]
    }
   ],
   "source": [
    "def even(value):\n",
    "    for i in range(1, value):\n",
    "        if(i%2==0)or(i%3==0):\n",
    "            print(i, end = ' ')\n",
    "    return\n",
    "value = int(input(\"Enter the value: \"))\n",
    "even(value)"
   ]
  },
  {
   "cell_type": "markdown",
   "metadata": {},
   "source": [
    "# 04"
   ]
  },
  {
   "cell_type": "code",
   "execution_count": 1,
   "metadata": {},
   "outputs": [
    {
     "name": "stdout",
     "output_type": "stream",
     "text": [
      "Jaisha \n",
      "Imran \n",
      "15 \n",
      "654378 \n",
      "Karachi \n",
      "Pakistan \n",
      "7865\n"
     ]
    }
   ],
   "source": [
    "def Info():\n",
    "    first = 'Jaisha'\n",
    "    last = 'Imran'\n",
    "    street = '15'\n",
    "    number = 654378\n",
    "    city = 'Karachi'\n",
    "    state = 'Pakistan'\n",
    "    zipCode = 7865\n",
    "    ZEN = '{0} \\n{1} \\n{2} \\n{3} \\n{4} \\n{5} \\n{6}'.format(first, last, street, number, \n",
    "                                                           city, state, zipCode)\n",
    "    print(ZEN)\n",
    "    return\n",
    "Info()"
   ]
  },
  {
   "cell_type": "markdown",
   "metadata": {},
   "source": [
    "# 05"
   ]
  },
  {
   "cell_type": "code",
   "execution_count": 7,
   "metadata": {},
   "outputs": [
    {
     "data": {
      "text/plain": [
       "'Mar'"
      ]
     },
     "execution_count": 7,
     "metadata": {},
     "output_type": "execute_result"
    }
   ],
   "source": [
    "import time\n",
    "def month(num):\n",
    "    mon = 'January', 'February', 'March', 'April', 'May', 'June', 'July', 'August', 'September', 'October', \n",
    "    'November', 'December'\n",
    "    month = mon[num]\n",
    "    month_abbre = month[0:3]\n",
    "    \n",
    "    return month_abbre\n",
    "month(2)"
   ]
  },
  {
   "cell_type": "markdown",
   "metadata": {},
   "source": [
    "# 06"
   ]
  },
  {
   "cell_type": "code",
   "execution_count": 4,
   "metadata": {},
   "outputs": [
    {
     "name": "stdout",
     "output_type": "stream",
     "text": [
      "How do you spell winner?\n",
      "I know I know !\n",
      "And that is how you spell winner!\n",
      "Go Uitians\n"
     ]
    }
   ],
   "source": [
    "def cheer(teamName):\n",
    "    A = 'How do you spell winner?'\n",
    "    B = 'I know I know !'\n",
    "    C = 'And that is how you spell winner!'\n",
    "    D = 'Go Uitians'\n",
    "    print('{0}\\n{1}\\n{2}\\n{3}'.format(A, B, C, D))\n",
    "    return \n",
    "cheer('uitians')\n",
    "    "
   ]
  },
  {
   "cell_type": "markdown",
   "metadata": {},
   "source": [
    "# 07"
   ]
  },
  {
   "cell_type": "code",
   "execution_count": 5,
   "metadata": {},
   "outputs": [
    {
     "name": "stdout",
     "output_type": "stream",
     "text": [
      "Welcome to IG.\n",
      "Customer name:  Jaisha Imran\n",
      "What would you like to have?\n",
      "Plain Burger\n",
      "OK, how many? \n",
      "3\n",
      "Anything else? \n",
      "no\n",
      "What would you like to have?\n",
      "OK, how many? \n",
      "3\n",
      "Anything else? \n",
      "no\n",
      "ok\n",
      "\n",
      "\n",
      "\n",
      "\t\t\t ¯¯¯¯¯¯¯¯¯¯¯¯¯¯¯¯¯¯¯¯¯¯¯¯¯¯¯¯¯¯¯¯¯¯¯¯¯¯¯¯\n",
      "\t\t\t WELCOME TO IG FAST FOODS\n",
      "\t\t\t ¯¯¯¯¯¯¯¯¯¯¯¯¯¯¯¯¯¯¯¯¯¯¯¯¯¯¯¯¯¯¯¯¯¯¯¯¯¯¯¯\n",
      "\t\t\t Jaisha Imran   2020-01-18 20:04:05.807060\n",
      "\t\t\t ¯¯¯¯¯¯¯¯¯¯¯¯¯¯¯¯¯¯¯¯¯¯¯¯¯¯¯¯¯¯¯¯¯¯¯¯¯¯¯¯\n",
      "\n",
      "\n",
      "\t\t\t Plain Burger :  3 :  900\n",
      "\t\t\t Total amount:  900\n",
      "\t\t\t GST:   13%\n",
      "\t\t\t Ground Total:    911.7\n",
      "\t\t\t ¯¯¯¯¯¯¯¯¯¯¯¯¯¯¯¯¯¯¯¯¯¯¯¯¯¯¯¯¯¯¯¯¯¯¯¯¯¯¯¯\n",
      "\n",
      "\n"
     ]
    }
   ],
   "source": [
    "import datetime\n",
    "time = datetime.datetime.now()\n",
    "\n",
    "menu = {'Cheese burger':220, 'Beef burger' :120, 'Plain Burger':300, 'Fries':100, 'Cheese fries':180, 'Chicken legs':300}\n",
    "\n",
    "def order(customer_name, val, quantity, ans):\n",
    "    print('Welcome to IG.')\n",
    "    print('Customer name: ', customer_name)\n",
    "    print('What would you like to have?')\n",
    "    print(val)\n",
    "    print('OK, how many? ')\n",
    "    print(quantity)\n",
    "    print('Anything else? ')\n",
    "    print(ans)\n",
    "    if ans == 'Yes' or 'yes':\n",
    "        print('What would you like to have?')\n",
    "        print('OK, how many? ')\n",
    "        print(quantity)\n",
    "        print('Anything else? ')\n",
    "        print(ans)\n",
    "        if ans != 'Yes'or 'yes':\n",
    "            print('ok')\n",
    "    else:\n",
    "        print('OK')\n",
    "    \n",
    "    Q1=quantity*menu[val]\n",
    "    Q2=Q1+(Q1*0.013)\n",
    "    print('\\n\\n')\n",
    "    print('\\t\\t\\t' , chr(175)*40)\n",
    "    print('\\t\\t\\t WELCOME TO IG FAST FOODS')\n",
    "    print('\\t\\t\\t' , chr(175)*40)\n",
    "    print('\\t\\t\\t', customer_name, ' ' , time)\n",
    "    print('\\t\\t\\t' , chr(175)*40)\n",
    "    print('\\n')\n",
    "    print('\\t\\t\\t', val, ': ' , quantity,': ', Q1)\n",
    "    print('\\t\\t\\t Total amount: ', Q1)\n",
    "    print('\\t\\t\\t GST:', ' ', '13%')\n",
    "    print('\\t\\t\\t Ground Total: ', ' ', Q2)\n",
    "    print('\\t\\t\\t' , chr(175)*40)\n",
    "    print('\\n')\n",
    "    return \n",
    "order('Jaisha Imran', 'Plain Burger', 3, 'no')\n",
    "   "
   ]
  },
  {
   "cell_type": "markdown",
   "metadata": {},
   "source": [
    "# 08"
   ]
  },
  {
   "cell_type": "code",
   "execution_count": 6,
   "metadata": {},
   "outputs": [
    {
     "name": "stdout",
     "output_type": "stream",
     "text": [
      "\t\t\tDecimal\t\t\t\t\t\t\tBinary\t\t\t\t\t\t  Octal\t\t\t\t\t\t  Hexa-decimal\n",
      "The value in decimal system is: 1\tin binary system is: 0b1\t in octal system is: 0o1\t in hexa-decimal system is: 0x1\n",
      "The value in decimal system is: 2\tin binary system is: 0b10\t in octal system is: 0o2\t in hexa-decimal system is: 0x2\n",
      "The value in decimal system is: 3\tin binary system is: 0b11\t in octal system is: 0o3\t in hexa-decimal system is: 0x3\n"
     ]
    }
   ],
   "source": [
    "def converter(start_point, end_point):\n",
    "    print('\\t\\t\\tDecimal\\t\\t\\t\\t\\t\\t\\tBinary\\t\\t\\t\\t\\t\\t  Octal\\t\\t\\t\\t\\t\\t  Hexa-decimal')\n",
    "    for i in range(start_point, end_point):\n",
    "        print('The value in decimal system is: {0}\\tin binary system is: {1}\\t in octal system is: {2}\\t in hexa-decimal system is: {3}'.format(i, bin(i), oct(i), hex(i)))\n",
    "\n",
    "converter(1, 4)\n"
   ]
  },
  {
   "cell_type": "markdown",
   "metadata": {},
   "source": [
    "# 09"
   ]
  },
  {
   "cell_type": "code",
   "execution_count": 7,
   "metadata": {},
   "outputs": [
    {
     "name": "stdout",
     "output_type": "stream",
     "text": [
      "¯¯¯¯¯¯¯¯¯¯¯¯¯¯¯¯¯¯¯¯¯¯¯¯¯¯¯¯¯¯¯¯¯¯¯¯¯¯¯¯\n",
      "\t\t STUDENT COPY\n",
      "¯¯¯¯¯¯¯¯¯¯¯¯¯¯¯¯¯¯¯¯¯¯¯¯¯¯¯¯¯¯¯¯¯¯¯¯¯¯¯¯\n",
      "   Name    ZARA\n",
      "   Roll number    108\n",
      "   Semester    1\n",
      "   Department     Software Engineering\n",
      "   Semester fees    89885\n",
      "   Miscellaneous fees    18000\n",
      "   Sports fees    5000\n",
      "   Enrollment fees    3500\n",
      "   Total    116385\n",
      "¯¯¯¯¯¯¯¯¯¯¯¯¯¯¯¯¯¯¯¯¯¯¯¯¯¯¯¯¯¯¯¯¯¯¯¯¯¯¯¯\n",
      "¯¯¯¯¯¯¯¯¯¯¯¯¯¯¯¯¯¯¯¯¯¯¯¯¯¯¯¯¯¯¯¯¯¯¯¯¯¯¯¯\n",
      "\t\t UNIVERSITY COPY\n",
      "¯¯¯¯¯¯¯¯¯¯¯¯¯¯¯¯¯¯¯¯¯¯¯¯¯¯¯¯¯¯¯¯¯¯¯¯¯¯¯¯\n",
      "   Name    ZARA\n",
      "   Roll number    108\n",
      "   Semester    1\n",
      "   Department     Software Engineering\n",
      "   Semester fees    89885\n",
      "   Miscellaneous fees    18000\n",
      "   Sports fees    5000\n",
      "   Enrollment fees    3500\n",
      "   Total    116385\n",
      "¯¯¯¯¯¯¯¯¯¯¯¯¯¯¯¯¯¯¯¯¯¯¯¯¯¯¯¯¯¯¯¯¯¯¯¯¯¯¯¯\n",
      "¯¯¯¯¯¯¯¯¯¯¯¯¯¯¯¯¯¯¯¯¯¯¯¯¯¯¯¯¯¯¯¯¯¯¯¯¯¯¯¯\n",
      "\t\t BANK COPY\n",
      "¯¯¯¯¯¯¯¯¯¯¯¯¯¯¯¯¯¯¯¯¯¯¯¯¯¯¯¯¯¯¯¯¯¯¯¯¯¯¯¯\n",
      "   Name    ZARA\n",
      "   Roll number    108\n",
      "   Semester    1\n",
      "   Department     Software Engineering\n",
      "   Semester fees    89885\n",
      "   Miscellaneous fees    18000\n",
      "   Sports fees    5000\n",
      "   Enrollment fees    3500\n",
      "   Total    116385\n",
      "¯¯¯¯¯¯¯¯¯¯¯¯¯¯¯¯¯¯¯¯¯¯¯¯¯¯¯¯¯¯¯¯¯¯¯¯¯¯¯¯\n"
     ]
    }
   ],
   "source": [
    "#student1\n",
    "info1 = {'Name':'ZARA', 'Roll number': 108, 'Semester': 1, 'Department':' Software Engineering', 'Semester fees': 89885, 'Miscellaneous fees': 18000, 'Sports fees': 5000, 'Enrollment fees': 3500, 'Total':116385}\n",
    "\n",
    "#student copy\n",
    "print(chr(175)*40)\n",
    "print('\\t\\t', 'STUDENT COPY')\n",
    "print(chr(175)*40)\n",
    "for i, j in info1.items():\n",
    "    print('  ', i, '  ' ,j)\n",
    "print(chr(175)*40)\n",
    "\n",
    "#university copy\n",
    "print(chr(175)*40)\n",
    "print('\\t\\t', 'UNIVERSITY COPY')\n",
    "print(chr(175)*40)\n",
    "for i, j in info1.items():\n",
    "    print('  ', i, '  ' ,j)\n",
    "print(chr(175)*40)\n",
    "\n",
    "#bank copy\n",
    "print(chr(175)*40)\n",
    "print('\\t\\t', 'BANK COPY')\n",
    "print(chr(175)*40)\n",
    "for i, j in info1.items():\n",
    "    print('  ', i, '  ' ,j)\n",
    "print(chr(175)*40)"
   ]
  },
  {
   "cell_type": "code",
   "execution_count": 8,
   "metadata": {},
   "outputs": [
    {
     "name": "stdout",
     "output_type": "stream",
     "text": [
      "¯¯¯¯¯¯¯¯¯¯¯¯¯¯¯¯¯¯¯¯¯¯¯¯¯¯¯¯¯¯¯¯¯¯¯¯¯¯¯¯\n",
      "\t\t STUDENT COPY\n",
      "¯¯¯¯¯¯¯¯¯¯¯¯¯¯¯¯¯¯¯¯¯¯¯¯¯¯¯¯¯¯¯¯¯¯¯¯¯¯¯¯\n",
      "   Name     AIZA \n",
      "   Roll number    208\n",
      "   Semester    3\n",
      "   Department     Electrical Engineering\n",
      "   Semester fees    189885\n",
      "   Miscellaneous fees    18000\n",
      "   Sports fees    5000\n",
      "   Enrollment fees    3500\n",
      "   Total    216385\n",
      "¯¯¯¯¯¯¯¯¯¯¯¯¯¯¯¯¯¯¯¯¯¯¯¯¯¯¯¯¯¯¯¯¯¯¯¯¯¯¯¯\n",
      "¯¯¯¯¯¯¯¯¯¯¯¯¯¯¯¯¯¯¯¯¯¯¯¯¯¯¯¯¯¯¯¯¯¯¯¯¯¯¯¯\n",
      "\t\t UNIVERSITY COPY\n",
      "¯¯¯¯¯¯¯¯¯¯¯¯¯¯¯¯¯¯¯¯¯¯¯¯¯¯¯¯¯¯¯¯¯¯¯¯¯¯¯¯\n",
      "   Name     AIZA \n",
      "   Roll number    208\n",
      "   Semester    3\n",
      "   Department     Electrical Engineering\n",
      "   Semester fees    189885\n",
      "   Miscellaneous fees    18000\n",
      "   Sports fees    5000\n",
      "   Enrollment fees    3500\n",
      "   Total    216385\n",
      "¯¯¯¯¯¯¯¯¯¯¯¯¯¯¯¯¯¯¯¯¯¯¯¯¯¯¯¯¯¯¯¯¯¯¯¯¯¯¯¯\n",
      "¯¯¯¯¯¯¯¯¯¯¯¯¯¯¯¯¯¯¯¯¯¯¯¯¯¯¯¯¯¯¯¯¯¯¯¯¯¯¯¯\n",
      "\t\t BANK COPY\n",
      "¯¯¯¯¯¯¯¯¯¯¯¯¯¯¯¯¯¯¯¯¯¯¯¯¯¯¯¯¯¯¯¯¯¯¯¯¯¯¯¯\n",
      "   Name     AIZA \n",
      "   Roll number    208\n",
      "   Semester    3\n",
      "   Department     Electrical Engineering\n",
      "   Semester fees    189885\n",
      "   Miscellaneous fees    18000\n",
      "   Sports fees    5000\n",
      "   Enrollment fees    3500\n",
      "   Total    216385\n",
      "¯¯¯¯¯¯¯¯¯¯¯¯¯¯¯¯¯¯¯¯¯¯¯¯¯¯¯¯¯¯¯¯¯¯¯¯¯¯¯¯\n"
     ]
    }
   ],
   "source": [
    "#student2\n",
    "info2 = {'Name':' AIZA ', 'Roll number': 208, 'Semester': 3, 'Department':' Electrical Engineering', 'Semester fees': 189885, 'Miscellaneous fees': 18000, 'Sports fees': 5000, 'Enrollment fees': 3500, 'Total':216385}\n",
    "\n",
    "#student copy\n",
    "print(chr(175)*40)\n",
    "print('\\t\\t', 'STUDENT COPY')\n",
    "print(chr(175)*40)\n",
    "for i, j in info2.items():\n",
    "    print('  ', i, '  ' ,j)\n",
    "print(chr(175)*40)\n",
    "\n",
    "#university copy\n",
    "print(chr(175)*40)\n",
    "print('\\t\\t', 'UNIVERSITY COPY')\n",
    "print(chr(175)*40)\n",
    "for i, j in info2.items():\n",
    "    print('  ', i, '  ' ,j)\n",
    "print(chr(175)*40)\n",
    "\n",
    "#bank copy\n",
    "print(chr(175)*40)\n",
    "print('\\t\\t', 'BANK COPY')\n",
    "print(chr(175)*40)\n",
    "for i, j in info2.items():\n",
    "    print('  ', i, '  ' ,j)\n",
    "print(chr(175)*40)"
   ]
  },
  {
   "cell_type": "code",
   "execution_count": 9,
   "metadata": {},
   "outputs": [
    {
     "name": "stdout",
     "output_type": "stream",
     "text": [
      "¯¯¯¯¯¯¯¯¯¯¯¯¯¯¯¯¯¯¯¯¯¯¯¯¯¯¯¯¯¯¯¯¯¯¯¯¯¯¯¯\n",
      "\t\t STUDENT COPY\n",
      "¯¯¯¯¯¯¯¯¯¯¯¯¯¯¯¯¯¯¯¯¯¯¯¯¯¯¯¯¯¯¯¯¯¯¯¯¯¯¯¯\n",
      "   Name    ZAFIR WASEEM\n",
      "   Roll number    408\n",
      "   Semester    6\n",
      "   Department     Computer Science\n",
      "   Semester fees    289885\n",
      "   Miscellaneous fees    18000\n",
      "   Sports fees    5000\n",
      "   Enrollment fees    3500\n",
      "   Total    316385\n",
      "¯¯¯¯¯¯¯¯¯¯¯¯¯¯¯¯¯¯¯¯¯¯¯¯¯¯¯¯¯¯¯¯¯¯¯¯¯¯¯¯\n",
      "¯¯¯¯¯¯¯¯¯¯¯¯¯¯¯¯¯¯¯¯¯¯¯¯¯¯¯¯¯¯¯¯¯¯¯¯¯¯¯¯\n",
      "\t\t UNIVERSITY COPY\n",
      "¯¯¯¯¯¯¯¯¯¯¯¯¯¯¯¯¯¯¯¯¯¯¯¯¯¯¯¯¯¯¯¯¯¯¯¯¯¯¯¯\n",
      "   Name    ZAFIR WASEEM\n",
      "   Roll number    408\n",
      "   Semester    6\n",
      "   Department     Computer Science\n",
      "   Semester fees    289885\n",
      "   Miscellaneous fees    18000\n",
      "   Sports fees    5000\n",
      "   Enrollment fees    3500\n",
      "   Total    316385\n",
      "¯¯¯¯¯¯¯¯¯¯¯¯¯¯¯¯¯¯¯¯¯¯¯¯¯¯¯¯¯¯¯¯¯¯¯¯¯¯¯¯\n",
      "¯¯¯¯¯¯¯¯¯¯¯¯¯¯¯¯¯¯¯¯¯¯¯¯¯¯¯¯¯¯¯¯¯¯¯¯¯¯¯¯\n",
      "\t\t BANK COPY\n",
      "¯¯¯¯¯¯¯¯¯¯¯¯¯¯¯¯¯¯¯¯¯¯¯¯¯¯¯¯¯¯¯¯¯¯¯¯¯¯¯¯\n",
      "   Name    ZAFIR WASEEM\n",
      "   Roll number    408\n",
      "   Semester    6\n",
      "   Department     Computer Science\n",
      "   Semester fees    289885\n",
      "   Miscellaneous fees    18000\n",
      "   Sports fees    5000\n",
      "   Enrollment fees    3500\n",
      "   Total    316385\n",
      "¯¯¯¯¯¯¯¯¯¯¯¯¯¯¯¯¯¯¯¯¯¯¯¯¯¯¯¯¯¯¯¯¯¯¯¯¯¯¯¯\n"
     ]
    }
   ],
   "source": [
    "#student3\n",
    "info3 = {'Name':'ZAFIR WASEEM', 'Roll number': 408, 'Semester': 6, 'Department':' Computer Science', 'Semester fees': 289885, 'Miscellaneous fees': 18000, 'Sports fees': 5000, 'Enrollment fees': 3500, 'Total':316385}\n",
    "\n",
    "#student copy\n",
    "print(chr(175)*40)\n",
    "print('\\t\\t', 'STUDENT COPY')\n",
    "print(chr(175)*40)\n",
    "for i, j in info3.items():\n",
    "    print('  ', i, '  ' ,j)\n",
    "print(chr(175)*40)\n",
    "\n",
    "#university copy\n",
    "print(chr(175)*40)\n",
    "print('\\t\\t', 'UNIVERSITY COPY')\n",
    "print(chr(175)*40)\n",
    "for i, j in info3.items():\n",
    "    print('  ', i, '  ' ,j)\n",
    "print(chr(175)*40)\n",
    "\n",
    "#bank copy\n",
    "print(chr(175)*40)\n",
    "print('\\t\\t', 'BANK COPY')\n",
    "print(chr(175)*40)\n",
    "for i, j in info3.items():\n",
    "    print('  ', i, '  ' ,j)\n",
    "print(chr(175)*40)"
   ]
  },
  {
   "cell_type": "markdown",
   "metadata": {},
   "source": [
    "# 10"
   ]
  },
  {
   "cell_type": "code",
   "execution_count": 21,
   "metadata": {},
   "outputs": [
    {
     "name": "stdout",
     "output_type": "stream",
     "text": [
      "\t ¯¯¯¯¯¯¯¯¯¯¯¯¯¯¯¯¯¯¯¯¯¯¯¯¯¯¯¯¯¯¯¯¯¯¯¯¯¯¯¯¯¯¯¯¯¯¯¯¯¯¯¯¯¯¯¯¯¯¯¯¯¯¯¯¯¯¯¯¯¯¯¯¯¯¯¯¯¯¯¯¯¯¯¯¯\n",
      "\t\t\tPSO  \t\t\tSHELL \t\t\tDIFFERENCE\n",
      "\t ¯¯¯¯¯¯¯¯¯¯¯¯¯¯¯¯¯¯¯¯¯¯¯¯¯¯¯¯¯¯¯¯¯¯¯¯¯¯¯¯¯¯¯¯¯¯¯¯¯¯¯¯¯¯¯¯¯¯¯¯¯¯¯¯¯¯¯¯¯¯¯¯¯¯¯¯¯¯¯¯¯¯¯¯¯\n",
      "\t\t4.3767507002801125  \t4.3767507002801125 \t\t  0.0\n",
      "\t ¯¯¯¯¯¯¯¯¯¯¯¯¯¯¯¯¯¯¯¯¯¯¯¯¯¯¯¯¯¯¯¯¯¯¯¯¯¯¯¯¯¯¯¯¯¯¯¯¯¯¯¯¯¯¯¯¯¯¯¯¯¯¯¯¯¯¯¯¯¯¯¯¯¯¯¯¯¯¯¯¯¯¯¯¯\n",
      "\t\t2.354603249352484  \t2.354603249352484 \t\t  0.0\n",
      "\t ¯¯¯¯¯¯¯¯¯¯¯¯¯¯¯¯¯¯¯¯¯¯¯¯¯¯¯¯¯¯¯¯¯¯¯¯¯¯¯¯¯¯¯¯¯¯¯¯¯¯¯¯¯¯¯¯¯¯¯¯¯¯¯¯¯¯¯¯¯¯¯¯¯¯¯¯¯¯¯¯¯¯¯¯¯\n",
      "\t\t3.5157623344661904  \t3.5157623344661904 \t\t  0.0\n",
      "\t ¯¯¯¯¯¯¯¯¯¯¯¯¯¯¯¯¯¯¯¯¯¯¯¯¯¯¯¯¯¯¯¯¯¯¯¯¯¯¯¯¯¯¯¯¯¯¯¯¯¯¯¯¯¯¯¯¯¯¯¯¯¯¯¯¯¯¯¯¯¯¯¯¯¯¯¯¯¯¯¯¯¯¯¯¯\n",
      "\t\t2.058036633052068  \t2.058036633052068 \t\t  0.0\n",
      "\t ¯¯¯¯¯¯¯¯¯¯¯¯¯¯¯¯¯¯¯¯¯¯¯¯¯¯¯¯¯¯¯¯¯¯¯¯¯¯¯¯¯¯¯¯¯¯¯¯¯¯¯¯¯¯¯¯¯¯¯¯¯¯¯¯¯¯¯¯¯¯¯¯¯¯¯¯¯¯¯¯¯¯¯¯¯\n"
     ]
    }
   ],
   "source": [
    "PSO = {'Premium(super)':'Rs.114.24/Ltr', 'High Speed Diesel':'Rs.127.41/Ltr', 'Light Speed Diesel':'Rs.85.33/Ltr', 'Kerosene Oil':'Rs.97.18/Ltr'}\n",
    "Shell = {'E10 Gasoline':'Rs.111.74/Ltr', 'Altron Premium':'Rs.114.24/Ltr' ,'Action+Diesel':'Rs.127.41/Ltr', 'LDO':'Rs.85.33/Ltr', 'SKO':'Rs.97.18/Ltr'}\n",
    "\n",
    "litres = 500\n",
    "diesel_litres = 300\n",
    "kerosene_litres = 200\n",
    "\n",
    "pso_litres_cost = litres / 114.24\n",
    "pso_diesel1_cost = diesel_litres / 127.41\n",
    "pso_diesel2_cost = diesel_litres / 85.33\n",
    "pso_kerosene_cost = kerosene_litres / 97.18\n",
    "\n",
    "shell_litres_cost = litres / 114.24 #Altron Premium\n",
    "shell_diesel1_cost = diesel_litres / 127.41 #Action+Diesel\n",
    "shell_diesel2_cost = diesel_litres / 85.33 #LDO\n",
    "shell_kerosene_cost = kerosene_litres / 97.18 #SKO\n",
    "\n",
    "diff_litres = pso_litres_cost - shell_litres_cost\n",
    "diff_diesel1 = pso_diesel1_cost - shell_diesel1_cost\n",
    "diff_diesel2 = pso_diesel2_cost - shell_diesel2_cost\n",
    "diff_kerosene_cost = pso_kerosene_cost - shell_kerosene_cost\n",
    "\n",
    "print('\\t', chr(175)*85)\n",
    "print(\"\\t\\t\\tPSO \", \"\\t\\t\\tSHELL\", \"\\t\\t\\tDIFFERENCE\" )\n",
    "print('\\t', chr(175)*85)\n",
    "print('\\t\\t{0}  \\t{1} \\t\\t  {2}'.format(pso_litres_cost, shell_litres_cost, diff_litres ))\n",
    "print('\\t', chr(175)*85)\n",
    "print('\\t\\t{0}  \\t{1} \\t\\t  {2}'.format(pso_diesel1_cost, shell_diesel1_cost, diff_diesel1)  )\n",
    "print('\\t', chr(175)*85)\n",
    "print('\\t\\t{0}  \\t{1} \\t\\t  {2}'.format(pso_diesel2_cost, shell_diesel2_cost, diff_diesel2)  )\n",
    "print('\\t', chr(175)*85)\n",
    "print('\\t\\t{0}  \\t{1} \\t\\t  {2}'.format(pso_kerosene_cost, shell_kerosene_cost, diff_kerosene_cost)  )\n",
    "print('\\t', chr(175)*85)\n"
   ]
  }
 ],
 "metadata": {
  "kernelspec": {
   "display_name": "Python 3",
   "language": "python",
   "name": "python3"
  },
  "language_info": {
   "codemirror_mode": {
    "name": "ipython",
    "version": 3
   },
   "file_extension": ".py",
   "mimetype": "text/x-python",
   "name": "python",
   "nbconvert_exporter": "python",
   "pygments_lexer": "ipython3",
   "version": "3.7.4"
  }
 },
 "nbformat": 4,
 "nbformat_minor": 2
}
