{
 "cells": [
  {
   "cell_type": "code",
   "execution_count": 2,
   "metadata": {},
   "outputs": [
    {
     "name": "stdout",
     "output_type": "stream",
     "text": [
      "enter the base of triangle:5\n",
      "enter the radius of circle:4\n",
      "shaded area of triangle is: 14.68642282639621 cm\n"
     ]
    }
   ],
   "source": [
    "#question no 1\n",
    "def function1():\n",
    "    from math import pi\n",
    "    import math\n",
    "    base_of_triangle=int(input('enter the base of triangle:'))\n",
    "    radius_of_circle=float(input('enter the radius of circle:'))\n",
    "    area_of_triangle=(math.sqrt(3)/4)*base_of_triangle**2\n",
    "    area_of_triangle6=area_of_triangle*6\n",
    "    area_of_circle= pi*(radius_of_circle**2)\n",
    "    area_of_shaded_triangle=area_of_triangle6-area_of_circle\n",
    "    print(\"shaded area of triangle is:\",area_of_shaded_triangle,\"cm\")\n",
    "function1()\n",
    "    \n",
    "    "
   ]
  },
  {
   "cell_type": "code",
   "execution_count": 3,
   "metadata": {},
   "outputs": [
    {
     "name": "stdout",
     "output_type": "stream",
     "text": [
      "enter the base of triangle:5\n",
      "enter the radius of circle:4\n",
      "shaded area of triangle is: 14.68642282639621 cm\n"
     ]
    }
   ],
   "source": [
    "#question no 3\n",
    "def function1():\n",
    "    from math import pi\n",
    "    import math\n",
    "    base_of_triangle=int(input('enter the base of triangle:'))\n",
    "    radius_of_circle=float(input('enter the radius of circle:'))\n",
    "    area_of_triangle=(math.sqrt(3)/4)*base_of_triangle**2\n",
    "    area_of_triangle6=area_of_triangle*6\n",
    "    area_of_circle= pi*(radius_of_circle**2)\n",
    "    area_of_shaded_triangle=area_of_triangle6-area_of_circle\n",
    "    print(\"shaded area of triangle is:\",area_of_shaded_triangle,\"cm\")\n",
    "function1()\n"
   ]
  },
  {
   "cell_type": "code",
   "execution_count": 4,
   "metadata": {},
   "outputs": [
    {
     "name": "stdout",
     "output_type": "stream",
     "text": [
      "enter the radius of circle:5\n",
      "enter the radius of circle:4\n",
      "78.53981633974483 cm\n",
      "50.26548245743669 cm\n",
      "28.27433388230814\n"
     ]
    }
   ],
   "source": [
    "#question no12\n",
    "def function1():\n",
    "    import math\n",
    "    from math import pi\n",
    "    radius_of_circle1=int(input('enter the radius of circle:'))\n",
    "    radius_of_circle2=int(input('enter the radius of circle:'))\n",
    "    area_of_circle1=pi*(radius_of_circle1**2)\n",
    "    area_of_circle2=pi*(radius_of_circle2**2)\n",
    "    print(area_of_circle1,'cm')\n",
    "    print(area_of_circle2,'cm')\n",
    "    r1=(area_of_circle2-area_of_circle1)\n",
    "    r2=(area_of_circle1-area_of_circle2)\n",
    "    if r1> r2:\n",
    "        print(r1)\n",
    "    else:\n",
    "        print(r2)\n",
    "\n",
    "function1()"
   ]
  },
  {
   "cell_type": "code",
   "execution_count": 5,
   "metadata": {},
   "outputs": [
    {
     "name": "stdout",
     "output_type": "stream",
     "text": [
      "enter the lenght of rectangle6\n",
      "enter the lenght of rectangle5\n",
      "enter the breadth of rectangle3\n",
      "enter the breadth of rectangle2\n",
      "18\n",
      "10\n",
      "8\n"
     ]
    }
   ],
   "source": [
    "#question no 13\n",
    "def function1():\n",
    "    lenght_of_rectangle1=int(input('enter the lenght of rectangle'))\n",
    "    lenght_of_rectangle2=int(input('enter the lenght of rectangle'))\n",
    "    breadth_of_rectangle1=int(input('enter the breadth of rectangle'))\n",
    "    breadth_of_rectangle2=int(input('enter the breadth of rectangle'))\n",
    "    area_of_rectangle1=(lenght_of_rectangle1*breadth_of_rectangle1)\n",
    "    area_of_rectangle2=(lenght_of_rectangle2*breadth_of_rectangle2)\n",
    "    print(area_of_rectangle1)\n",
    "    print(area_of_rectangle2)\n",
    "    a1=(area_of_rectangle1-area_of_rectangle2)\n",
    "    a2=(area_of_rectangle2-area_of_rectangle1)\n",
    "    if a1 > a2:\n",
    "        print(a1)\n",
    "    else:\n",
    "        print(a2)\n",
    "function1()"
   ]
  },
  {
   "cell_type": "code",
   "execution_count": 7,
   "metadata": {},
   "outputs": [
    {
     "name": "stdout",
     "output_type": "stream",
     "text": [
      "25/12\n"
     ]
    }
   ],
   "source": [
    "#question no 15\n",
    "def addf():\n",
    "    from fractions import Fraction\n",
    "    sum = 0\n",
    "    for i in range(1,5):\n",
    "        sum = sum + Fraction(1,i) \n",
    "        \n",
    "    print(sum)\n",
    "addf()"
   ]
  },
  {
   "cell_type": "code",
   "execution_count": null,
   "metadata": {},
   "outputs": [],
   "source": []
  }
 ],
 "metadata": {
  "kernelspec": {
   "display_name": "Python 3",
   "language": "python",
   "name": "python3"
  },
  "language_info": {
   "codemirror_mode": {
    "name": "ipython",
    "version": 3
   },
   "file_extension": ".py",
   "mimetype": "text/x-python",
   "name": "python",
   "nbconvert_exporter": "python",
   "pygments_lexer": "ipython3",
   "version": "3.7.4"
  }
 },
 "nbformat": 4,
 "nbformat_minor": 2
}
