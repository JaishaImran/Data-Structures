{
 "cells": [
  {
   "cell_type": "code",
   "execution_count": 6,
   "metadata": {},
   "outputs": [
    {
     "data": {
      "text/plain": [
       "12"
      ]
     },
     "execution_count": 6,
     "metadata": {},
     "output_type": "execute_result"
    }
   ],
   "source": [
    "def numChar(filename):\n",
    "    infile = open(filename, 'r')\n",
    "    content = infile.read()\n",
    "    infile.close()\n",
    "    \n",
    "    return len(content)\n",
    "numChar(\"infile.txt\")"
   ]
  },
  {
   "cell_type": "code",
   "execution_count": 7,
   "metadata": {},
   "outputs": [
    {
     "name": "stdout",
     "output_type": "stream",
     "text": [
      "['jaisha', 'imran']\n"
     ]
    },
    {
     "data": {
      "text/plain": [
       "2"
      ]
     },
     "execution_count": 7,
     "metadata": {},
     "output_type": "execute_result"
    }
   ],
   "source": [
    "def numWords(filename):\n",
    "    infile = open(filename, 'r')\n",
    "    content = infile.read()\n",
    "    infile.close()\n",
    "    \n",
    "    wordList = content.split()\n",
    "    print(wordList)\n",
    "    return len(wordList)\n",
    "numWords(\"infile.txt\")"
   ]
  },
  {
   "cell_type": "code",
   "execution_count": 31,
   "metadata": {},
   "outputs": [
    {
     "name": "stdout",
     "output_type": "stream",
     "text": [
      "['jaisha imran\\n', '18\\n', '6\\n', '3\\n']\n"
     ]
    },
    {
     "data": {
      "text/plain": [
       "20"
      ]
     },
     "execution_count": 31,
     "metadata": {},
     "output_type": "execute_result"
    }
   ],
   "source": [
    "def stats(filename):\n",
    "    infile = open(filename , 'r')\n",
    "    lineList = infile.readlines()\n",
    "    infile.close()\n",
    "    print(lineList)\n",
    "    return len(lineList)\n",
    "stats('filer.txt')\n",
    "\n",
    "def stats(filename):\n",
    "    infile = open(filename, 'r')\n",
    "    content = infile.read()\n",
    "    infile.close()\n",
    "    \n",
    "    return len(content)\n",
    "stats('filer.txt')\n",
    "\n",
    "\n",
    "\n",
    "\n",
    "    \n"
   ]
  },
  {
   "cell_type": "code",
   "execution_count": 4,
   "metadata": {},
   "outputs": [
    {
     "name": "stdout",
     "output_type": "stream",
     "text": [
      "Enter filename: filer.txt\n",
      "line count:  1\n",
      "word count:  5\n",
      "character count:  20\n"
     ]
    }
   ],
   "source": [
    "def stats(filename):\n",
    "    A = open(filename, 'r')\n",
    "    strs = A.read()\n",
    "    print(\"line count: \",len(strs.split('/n')))\n",
    "    print(\"word count: \",len(strs.split()))\n",
    "    print(\"character count: \",len(strs))\n",
    "    A.close()\n",
    "filename = input(\"Enter filename: \")\n",
    "stats(filename)"
   ]
  },
  {
   "cell_type": "code",
   "execution_count": 8,
   "metadata": {},
   "outputs": [
    {
     "name": "stdout",
     "output_type": "stream",
     "text": [
      "Enter filename: filer.txt\n",
      "6 students got A\n",
      "2 students got A-\n",
      "3 students got B+\n",
      "2 students got B\n",
      "2 students got B-\n",
      "4 students got C\n",
      "1 students got C-\n",
      "2 students got F\n"
     ]
    }
   ],
   "source": [
    "def distribution(filename):\n",
    "    A = open(filename, 'r')\n",
    "    strs = A.read()\n",
    "    lst = strs.split()\n",
    "    num = [6,2,3,2,2,4,1,2]\n",
    "    for i in range(len(num)):\n",
    "        print(num[i],'students got',lst[i])\n",
    "        A.close()\n",
    "filename = input(\"Enter filename: \")\n",
    "distribution(filename)"
   ]
  },
  {
   "cell_type": "code",
   "execution_count": 9,
   "metadata": {},
   "outputs": [
    {
     "name": "stdout",
     "output_type": "stream",
     "text": [
      "Enter filename: infile.txt\n"
     ]
    },
    {
     "data": {
      "text/plain": [
       "True"
      ]
     },
     "execution_count": 9,
     "metadata": {},
     "output_type": "execute_result"
    }
   ],
   "source": [
    "def duplicate(filename):\n",
    "    filename = input(\"Enter filename: \")\n",
    "    A = open(filename, 'r')\n",
    "    strs = A.read()\n",
    "    lst = strs.split()\n",
    "    sets = set(lst)\n",
    "    \n",
    "    if (len(lst)) != len(set(lst)):\n",
    "        return True\n",
    "    else:\n",
    "        return False\n",
    "duplicate(filename)"
   ]
  },
  {
   "cell_type": "code",
   "execution_count": 10,
   "metadata": {},
   "outputs": [],
   "source": [
    "f1 = open('file1.txt', 'r')\n",
    "f2 = open('file2.txt', 'w')\n",
    "for line in f1:\n",
    "    f2.write(line.replace('jaisha', 'is'))\n",
    "f1.close()\n",
    "f2.close()"
   ]
  },
  {
   "cell_type": "code",
   "execution_count": 24,
   "metadata": {},
   "outputs": [
    {
     "name": "stdout",
     "output_type": "stream",
     "text": [
      "Enter name of the file: infile1.txt\n"
     ]
    },
    {
     "ename": "TypeError",
     "evalue": "replace() argument 1 must be str, not int",
     "output_type": "error",
     "traceback": [
      "\u001b[1;31m---------------------------------------------------------------------------\u001b[0m",
      "\u001b[1;31mTypeError\u001b[0m                                 Traceback (most recent call last)",
      "\u001b[1;32m<ipython-input-24-7376ee5b2d91>\u001b[0m in \u001b[0;36m<module>\u001b[1;34m\u001b[0m\n\u001b[0;32m     10\u001b[0m                 \u001b[0mi\u001b[0m \u001b[1;33m=\u001b[0m \u001b[0mi\u001b[0m\u001b[1;33m+\u001b[0m\u001b[1;36m1\u001b[0m\u001b[1;33m\u001b[0m\u001b[1;33m\u001b[0m\u001b[0m\n\u001b[0;32m     11\u001b[0m     \u001b[0mfile\u001b[0m\u001b[1;33m.\u001b[0m\u001b[0mclose\u001b[0m\u001b[1;33m(\u001b[0m\u001b[1;33m)\u001b[0m\u001b[1;33m\u001b[0m\u001b[1;33m\u001b[0m\u001b[0m\n\u001b[1;32m---> 12\u001b[1;33m \u001b[0mabc\u001b[0m\u001b[1;33m(\u001b[0m\u001b[1;34m'infile1.txt'\u001b[0m\u001b[1;33m)\u001b[0m\u001b[1;33m\u001b[0m\u001b[1;33m\u001b[0m\u001b[0m\n\u001b[0m",
      "\u001b[1;32m<ipython-input-24-7376ee5b2d91>\u001b[0m in \u001b[0;36mabc\u001b[1;34m(file)\u001b[0m\n\u001b[0;32m      7\u001b[0m         \u001b[1;32mfor\u001b[0m \u001b[0mi\u001b[0m \u001b[1;32min\u001b[0m \u001b[0mrange\u001b[0m \u001b[1;33m(\u001b[0m\u001b[0mlen\u001b[0m\u001b[1;33m(\u001b[0m\u001b[0mwords\u001b[0m\u001b[1;33m)\u001b[0m\u001b[1;33m)\u001b[0m\u001b[1;33m:\u001b[0m\u001b[1;33m\u001b[0m\u001b[1;33m\u001b[0m\u001b[0m\n\u001b[0;32m      8\u001b[0m             \u001b[1;32mif\u001b[0m \u001b[0mlen\u001b[0m\u001b[1;33m(\u001b[0m\u001b[0mwords\u001b[0m\u001b[1;33m[\u001b[0m\u001b[0mi\u001b[0m\u001b[1;33m]\u001b[0m\u001b[1;33m)\u001b[0m \u001b[1;33m==\u001b[0m \u001b[1;36m4\u001b[0m\u001b[1;33m:\u001b[0m\u001b[1;33m\u001b[0m\u001b[1;33m\u001b[0m\u001b[0m\n\u001b[1;32m----> 9\u001b[1;33m                 \u001b[0mfile1\u001b[0m \u001b[1;33m=\u001b[0m \u001b[0melement\u001b[0m\u001b[1;33m.\u001b[0m\u001b[0mreplace\u001b[0m\u001b[1;33m(\u001b[0m\u001b[0mi\u001b[0m\u001b[1;33m,\u001b[0m \u001b[1;34m'xxxx'\u001b[0m\u001b[1;33m)\u001b[0m\u001b[1;33m\u001b[0m\u001b[1;33m\u001b[0m\u001b[0m\n\u001b[0m\u001b[0;32m     10\u001b[0m                 \u001b[0mi\u001b[0m \u001b[1;33m=\u001b[0m \u001b[0mi\u001b[0m\u001b[1;33m+\u001b[0m\u001b[1;36m1\u001b[0m\u001b[1;33m\u001b[0m\u001b[1;33m\u001b[0m\u001b[0m\n\u001b[0;32m     11\u001b[0m     \u001b[0mfile\u001b[0m\u001b[1;33m.\u001b[0m\u001b[0mclose\u001b[0m\u001b[1;33m(\u001b[0m\u001b[1;33m)\u001b[0m\u001b[1;33m\u001b[0m\u001b[1;33m\u001b[0m\u001b[0m\n",
      "\u001b[1;31mTypeError\u001b[0m: replace() argument 1 must be str, not int"
     ]
    }
   ],
   "source": [
    "def abc(file):\n",
    "    filename = input(\"Enter name of the file: \")\n",
    "    file = open(filename, 'r+')\n",
    "    i = 0\n",
    "    for element in file:\n",
    "        words = element.split()\n",
    "        for i in range (len(words)):\n",
    "            if len(words[i]) == 4:\n",
    "                file1 = element.replace(i, 'xxxx')\n",
    "                i = i+1\n",
    "    file.close()\n",
    "abc('infile1.txt')"
   ]
  },
  {
   "cell_type": "code",
   "execution_count": null,
   "metadata": {},
   "outputs": [],
   "source": []
  }
 ],
 "metadata": {
  "kernelspec": {
   "display_name": "Python 3",
   "language": "python",
   "name": "python3"
  },
  "language_info": {
   "codemirror_mode": {
    "name": "ipython",
    "version": 3
   },
   "file_extension": ".py",
   "mimetype": "text/x-python",
   "name": "python",
   "nbconvert_exporter": "python",
   "pygments_lexer": "ipython3",
   "version": "3.7.4"
  }
 },
 "nbformat": 4,
 "nbformat_minor": 2
}
