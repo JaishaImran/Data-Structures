{
 "cells": [
  {
   "cell_type": "code",
   "execution_count": 1,
   "metadata": {},
   "outputs": [],
   "source": [
    "#write the name of the students in a screen\n",
    "import tkinter\n",
    "window = tkinter.Tk()\n",
    "window.title(\"Students\")\n",
    "Label=tkinter.Label(window , text = \"SHAJIA \\n BARIRAH \\n MUNEEBA \").pack()\n",
    "window.mainloop()\n",
    "#HOW TO JUST SIMPLY GIVE NAME TO THE SCREEN AND INPUT TEXT INTO IT"
   ]
  },
  {
   "cell_type": "code",
   "execution_count": 2,
   "metadata": {},
   "outputs": [],
   "source": [
    "#HOW TO MAKE BUTTONS IN TKINTER\n",
    "#SO FIRST IS FIRST:\n",
    "import tkinter\n",
    "window = tkinter.Tk()\n",
    "window.title(\"Students nick names\")\n",
    "#NOW GIVE THE BUTTONS A FRAME\n",
    "top_frame = tkinter.Frame(window).pack()\n",
    "bottom_frame = tkinter.Frame(window).pack(side= \"bottom\")\n",
    "#NOW JUST DEFINED THE BUTTON GIVE IT COLOR CONTRACT ETC\n",
    "btn1 = tkinter.Button(top_frame, text= \"shajjo\", fg = \"blue\").pack()\n",
    "btn2 = tkinter.Button(bottom_frame, text=\"Balla\", fg=\"red\").pack(side=\"left\")\n",
    "btn3 = tkinter.Button(top_frame,text = \"Momi\",fg = \"green\").pack()\n",
    "window.mainloop()"
   ]
  },
  {
   "cell_type": "code",
   "execution_count": 3,
   "metadata": {},
   "outputs": [],
   "source": [
    "#NOW MAKE A BUTTON AND ITS GIVES U A TEXT \n",
    "import tkinter\n",
    "window = tkinter.Tk()\n",
    "window.title()\n",
    "def say_Shajjo():\n",
    "    tkinter.Label(window,text = \"Shajjo\").pack()\n",
    "#Now define the button represent it\n",
    "tkinter.Button(window, text = \"nick_name\", command = say_Shajjo).pack()\n",
    "window.mainloop()"
   ]
  },
  {
   "cell_type": "code",
   "execution_count": 4,
   "metadata": {},
   "outputs": [
    {
     "name": "stdout",
     "output_type": "stream",
     "text": [
      "Enter the words: mom\n",
      "yes your word is a plaindrome\n"
     ]
    }
   ],
   "source": [
    "word = input(\"Enter the words: \")\n",
    "rev_word = word[::1]\n",
    "if rev_word.casefold() == word.casefold():\n",
    "    print('yes your word is a plaindrome')\n",
    "else:\n",
    "    print('its not plaindrome')"
   ]
  },
  {
   "cell_type": "code",
   "execution_count": 5,
   "metadata": {},
   "outputs": [
    {
     "name": "stdout",
     "output_type": "stream",
     "text": [
      "serial no: 001234\n",
      "The Board Of Intermediate\n",
      "Statements Of Marks\n",
      "Enter the group: science\n",
      "Enter the Roll Number: 19b-059-se\n",
      "Enter the Enrollnment_number: 123456\n",
      "Enter the Name: Jaisha\n",
      "Enter the father nameImran\n",
      "Enter the college name: Khatoon e pakistan\n",
      "ENGLISH: 98\n",
      "MATHS: 98\n",
      "URDU: 98\n",
      "PHYSICS: 98\n",
      "CHEMISTRY: 98\n",
      "490\n",
      "98.0\n"
     ]
    }
   ],
   "source": [
    "print(\"serial no: 001234\")\n",
    "print(\"The Board Of Intermediate\")\n",
    "print(\"Statements Of Marks\")\n",
    "Group = input(\"Enter the group: \")\n",
    "Roll_No = input(\"Enter the Roll Number: \")\n",
    "Enrollnment_No = input(\"Enter the Enrollnment_number: \")\n",
    "name = input(\"Enter the Name: \")\n",
    "f_name = input(\"Enter the father name\")\n",
    "college = input(\"Enter the college name: \")\n",
    "#enter the marks\n",
    "English = int(input(\"ENGLISH: \"))\n",
    "Math = int(input(\"MATHS: \"))\n",
    "Urdu = int(input(\"URDU: \"))\n",
    "Physics = int(input(\"PHYSICS: \"))\n",
    "Chemistry = int(input(\"CHEMISTRY: \"))\n",
    "sum = English+Math+Urdu+Physics+Chemistry\n",
    "print(sum)\n",
    "percentage=(sum/500)*100\n",
    "print(percentage)"
   ]
  },
  {
   "cell_type": "code",
   "execution_count": 6,
   "metadata": {},
   "outputs": [
    {
     "name": "stdout",
     "output_type": "stream",
     "text": [
      "ENTER THE NUMBER OF ROWS: 1\n",
      "ENTER THE NUMBER OF COLUMNS: 2\n",
      "[[0, 1]]\n"
     ]
    }
   ],
   "source": [
    "#MAKE A MATRIX\n",
    "row_num = int(input(\"ENTER THE NUMBER OF ROWS: \"))\n",
    "col_number = int(input(\"ENTER THE NUMBER OF COLUMNS: \"))\n",
    "multi_list = [[0 for col in range (col_number)]for row in range(row_num)]\n",
    "for row in range (row_num):\n",
    "    for col in range (col_number):\n",
    "        multi_list[row][col]=row+col\n",
    "        \n",
    "print(multi_list)"
   ]
  },
  {
   "cell_type": "code",
   "execution_count": 7,
   "metadata": {},
   "outputs": [
    {
     "name": "stdout",
     "output_type": "stream",
     "text": [
      "12 x 1 = 12\n",
      "12 x 2 = 24\n",
      "12 x 3 = 36\n",
      "12 x 4 = 48\n",
      "12 x 5 = 60\n",
      "12 x 6 = 72\n",
      "12 x 7 = 84\n",
      "12 x 8 = 96\n",
      "12 x 9 = 108\n",
      "12 x 10 = 120\n"
     ]
    }
   ],
   "source": [
    "# Multiplication table (from 1 to 10) in Python\n",
    "num = 12\n",
    "# To take input from the user\n",
    "# num = int(input(\"Display multiplication table of? \"))\n",
    "# Iterate 10 times from i = 1 to 10\n",
    "for i in range(1, 11):\n",
    "   print(num, 'x', i, '=', num*i)"
   ]
  },
  {
   "cell_type": "code",
   "execution_count": 8,
   "metadata": {},
   "outputs": [
    {
     "name": "stdout",
     "output_type": "stream",
     "text": [
      "18 x 1 = 18\n",
      "18 x 2 = 36\n",
      "18 x 3 = 54\n",
      "18 x 4 = 72\n",
      "18 x 5 = 90\n",
      "18 x 6 = 108\n",
      "18 x 7 = 126\n",
      "18 x 8 = 144\n",
      "18 x 9 = 162\n",
      "18 x 10 = 180\n"
     ]
    }
   ],
   "source": [
    "num=18\n",
    "for i in range(1, 11):\n",
    "    print(num, 'x', i, '=', num*i)"
   ]
  },
  {
   "cell_type": "code",
   "execution_count": 9,
   "metadata": {},
   "outputs": [
    {
     "name": "stdout",
     "output_type": "stream",
     "text": [
      "2 x 1 = 2\n",
      "2 x 2 = 4\n",
      "2 x 3 = 6\n",
      "2 x 4 = 8\n",
      "2 x 5 = 10\n",
      "2 x 6 = 12\n",
      "2 x 7 = 14\n",
      "2 x 8 = 16\n",
      "2 x 9 = 18\n",
      "2 x 10 = 20\n"
     ]
    }
   ],
   "source": [
    "num=2\n",
    "for i in range(1,11):\n",
    "    print(num, 'x', i, '=',num*i)"
   ]
  },
  {
   "cell_type": "code",
   "execution_count": 10,
   "metadata": {},
   "outputs": [
    {
     "name": "stdout",
     "output_type": "stream",
     "text": [
      "Enter the number of rows:2\n",
      "Enter the number of columns:3\n",
      "Enter the entries rowwise:\n",
      "1\n",
      "2\n",
      "3\n",
      "4\n",
      "5\n",
      "6\n",
      "1 2 3 \n",
      "4 5 6 \n"
     ]
    }
   ],
   "source": [
    "#PRINT A MATRIX IN PYTHON\n",
    "# A basic code for matrix input from user \n",
    "  \n",
    "R = int(input(\"Enter the number of rows:\")) \n",
    "C = int(input(\"Enter the number of columns:\")) \n",
    "  \n",
    "# Initialize matrix \n",
    "matrix = [] \n",
    "print(\"Enter the entries rowwise:\") \n",
    "  \n",
    "# For user input \n",
    "for i in range(R):          # A for loop for row entries \n",
    "    a =[] \n",
    "    for j in range(C):      # A for loop for column entries \n",
    "         a.append(int(input())) \n",
    "    matrix.append(a) \n",
    "  \n",
    "# For printing the matrix \n",
    "for i in range(R): \n",
    "    for j in range(C): \n",
    "        print(matrix[i][j], end = \" \") \n",
    "    print() "
   ]
  },
  {
   "cell_type": "code",
   "execution_count": 11,
   "metadata": {},
   "outputs": [
    {
     "name": "stdout",
     "output_type": "stream",
     "text": [
      "Enter the number of Rows: 7\n",
      "Enter the numbers of column: 1\n",
      "Enter the entries rowwise:\n",
      "1\n",
      "2\n",
      "3\n",
      "4\n",
      "5\n",
      "6\n",
      "7\n",
      "1 \n",
      "2 \n",
      "3 \n",
      "4 \n",
      "5 \n",
      "6 \n",
      "7 \n"
     ]
    }
   ],
   "source": [
    "R = int(input(\"Enter the number of Rows: \"))\n",
    "C = int(input(\"Enter the numbers of column: \"))\n",
    "\n",
    "matrix = []\n",
    "print(\"Enter the entries rowwise:\")\n",
    "for i in range(R):\n",
    "    a=[]\n",
    "    for j in range(C):\n",
    "        a.append(int(input()))\n",
    "    matrix.append(a)\n",
    "for i in range(R):\n",
    "    for j in range(C):\n",
    "        print(matrix[i][j], end=\" \")\n",
    "    print()"
   ]
  },
  {
   "cell_type": "code",
   "execution_count": 12,
   "metadata": {},
   "outputs": [
    {
     "name": "stdout",
     "output_type": "stream",
     "text": [
      "Enter  the value of Rows: 2\n",
      "Enter the value of Columns: 1\n",
      "Enter the entries rowise\n",
      "3\n",
      "4\n",
      "3 \n",
      "4 \n"
     ]
    }
   ],
   "source": [
    "R = int(input(\"Enter  the value of Rows: \"))\n",
    "C = int(input(\"Enter the value of Columns: \"))\n",
    "matrix=[]\n",
    "print(\"Enter the entries rowise\")\n",
    "for i in range(R):\n",
    "    a=[]\n",
    "    for j in range(C):\n",
    "        a.append(int(input()))\n",
    "    matrix.append(a)\n",
    "for i in range(R):\n",
    "    for j in range(C):\n",
    "        print(matrix[i][j], end=\" \")\n",
    "    print()"
   ]
  },
  {
   "cell_type": "code",
   "execution_count": 13,
   "metadata": {},
   "outputs": [
    {
     "name": "stdout",
     "output_type": "stream",
     "text": [
      "enter the number of rows:2\n",
      "*\n",
      "**\n"
     ]
    }
   ],
   "source": [
    "num = int(input(\"enter the number of rows:\"))\n",
    "for i in range(1,num+1):\n",
    "    for j in range(1,i+1):\n",
    "        print(\"*\",end=\"\")\n",
    "    print()"
   ]
  },
  {
   "cell_type": "code",
   "execution_count": 14,
   "metadata": {},
   "outputs": [
    {
     "name": "stdout",
     "output_type": "stream",
     "text": [
      "Enter the number of rows: 3\n",
      "* \n",
      "* * \n",
      "* * * \n"
     ]
    }
   ],
   "source": [
    "num = int(input(\"Enter the number of rows: \"))\n",
    "for i in range(1,num+1):\n",
    "    for j in range(1,i+1):\n",
    "        print(\"*\",end=\" \")\n",
    "    print()"
   ]
  },
  {
   "cell_type": "code",
   "execution_count": 15,
   "metadata": {},
   "outputs": [
    {
     "name": "stdout",
     "output_type": "stream",
     "text": [
      "2\n"
     ]
    }
   ],
   "source": [
    "from datetime import date\n",
    "date_1 = date(2001,6,6)\n",
    "date_2 = date(2001,6,8)\n",
    "delta = date_2-date_1\n",
    "print(delta.days)"
   ]
  },
  {
   "cell_type": "code",
   "execution_count": 16,
   "metadata": {},
   "outputs": [
    {
     "name": "stdout",
     "output_type": "stream",
     "text": [
      "Enter the value of a: 2\n",
      "Enter the value of n: 1\n",
      "Enter the value of d: 3\n",
      "2\n",
      "ask the user want to continue or not ?no\n",
      "You are done!\n"
     ]
    }
   ],
   "source": [
    "#Tn = a+(n-1)*d\n",
    "a = int(input(\"Enter the value of a: \"))\n",
    "n = int(input(\"Enter the value of n: \"))\n",
    "d = int(input(\"Enter the value of d: \"))\n",
    "def arthematic_mean():\n",
    "    T = a+(n-1)*d\n",
    "    print(T)\n",
    "arthematic_mean()\n",
    "while True:\n",
    "    x=input(\"ask the user want to continue or not ?\")\n",
    "    if x==\"Yes\":\n",
    "        a = int(input(\"Enter the value of a: \"))\n",
    "        n = int(input(\"Enter the value of n: \"))\n",
    "        d = int(input(\"Enter the value of d: \"))\n",
    "        arthematic_mean()\n",
    "    else:\n",
    "        if x == \"no\":\n",
    "            print(\"You are done!\")\n",
    "            break"
   ]
  },
  {
   "cell_type": "code",
   "execution_count": 17,
   "metadata": {},
   "outputs": [
    {
     "name": "stdout",
     "output_type": "stream",
     "text": [
      "Enter the value of var1: 2\n",
      "output_list [2, 4, 6, 8, 10, 12, 14, 16, 18, 20, 22, 24]\n"
     ]
    }
   ],
   "source": [
    "#TO MULTIPLY THE NUMBERS IN LIST COMPREHENSION\n",
    "var1 = int(input(\"Enter the value of var1: \"))\n",
    "list_using_comp = [var1*var for var in range(1,13)]\n",
    "print(\"output_list\",list_using_comp)"
   ]
  },
  {
   "cell_type": "code",
   "execution_count": 18,
   "metadata": {},
   "outputs": [
    {
     "name": "stdout",
     "output_type": "stream",
     "text": [
      "The positive numbers are: [[1, 2, 3, 4, 5]]\n",
      "The negative numbers are: [[-2, -6, -9, -4, -5]]\n"
     ]
    }
   ],
   "source": [
    "#TO SAPERATE THE POSITIVE AND NEGATIVE NUMBER USING LIST COMPREHENSION\n",
    "lst = [1,2,3,4,5,-2,-6,-9,-4,-5,]\n",
    "lst1 = []\n",
    "lst2 = []\n",
    "list_using_comp = [var for var in lst if var>=0 ]\n",
    "lst1.append(list_using_comp)\n",
    "list_using_comp1 = [var for var in lst if var<=0 ]\n",
    "lst2.append(list_using_comp1)\n",
    "print(\"The positive numbers are:\",lst1)\n",
    "print(\"The negative numbers are:\",lst2)"
   ]
  },
  {
   "cell_type": "code",
   "execution_count": 19,
   "metadata": {},
   "outputs": [
    {
     "name": "stdout",
     "output_type": "stream",
     "text": [
      "{98, 70, 42, 14, 84, 56, 28}\n"
     ]
    }
   ],
   "source": [
    "dict1 = {var for var in range(1,100) if var>5 and var%2==0 and var%7==0}\n",
    "print(dict1)"
   ]
  },
  {
   "cell_type": "code",
   "execution_count": 20,
   "metadata": {},
   "outputs": [
    {
     "name": "stdout",
     "output_type": "stream",
     "text": [
      "{56, 112, 168}\n"
     ]
    }
   ],
   "source": [
    "dict1 = {var for var in range(1,200) if var>45 and var%7==0 and var%8==0}\n",
    "print(dict1)"
   ]
  },
  {
   "cell_type": "code",
   "execution_count": 21,
   "metadata": {},
   "outputs": [
    {
     "name": "stdout",
     "output_type": "stream",
     "text": [
      "{'Dad': {'phone_number': '03018221442'}, 'Mom': {'phone_number': '031452657687'}}\n"
     ]
    }
   ],
   "source": [
    "#phone number of parents\n",
    "nested_list = { 'Dad' : {'phone_number' : '03018221442'}, 'Mom' : {'phone_number' : '031452657687'}}\n",
    "print(nested_list)"
   ]
  },
  {
   "cell_type": "code",
   "execution_count": 22,
   "metadata": {},
   "outputs": [
    {
     "name": "stdout",
     "output_type": "stream",
     "text": [
      "14 * 1 = 14\n",
      "14 * 2 = 28\n",
      "14 * 3 = 42\n",
      "14 * 4 = 56\n",
      "14 * 5 = 70\n",
      "14 * 6 = 84\n",
      "14 * 7 = 98\n",
      "14 * 8 = 112\n",
      "14 * 9 = 126\n",
      "14 * 10 = 140\n"
     ]
    }
   ],
   "source": [
    "#*\n",
    "#print the table \n",
    "for i in range(1,11):\n",
    "    table=lambda x, y: x * i\n",
    "    print(\"{} * {} = {}\".format(14,i,14*i))"
   ]
  },
  {
   "cell_type": "code",
   "execution_count": 23,
   "metadata": {},
   "outputs": [
    {
     "name": "stdout",
     "output_type": "stream",
     "text": [
      "['BPF', 'LOG4', 'NV_MAGICCONST', 'RECIP_BPF', 'Random', 'SG_MAGICCONST', 'SystemRandom', 'TWOPI', '_BuiltinMethodType', '_MethodType', '_Sequence', '_Set', '__all__', '__builtins__', '__cached__', '__doc__', '__file__', '__loader__', '__name__', '__package__', '__spec__', '_acos', '_bisect', '_ceil', '_cos', '_e', '_exp', '_inst', '_itertools', '_log', '_os', '_pi', '_random', '_sha512', '_sin', '_sqrt', '_test', '_test_generator', '_urandom', '_warn', 'betavariate', 'choice', 'choices', 'expovariate', 'gammavariate', 'gauss', 'getrandbits', 'getstate', 'lognormvariate', 'normalvariate', 'paretovariate', 'randint', 'random', 'randrange', 'sample', 'seed', 'setstate', 'shuffle', 'triangular', 'uniform', 'vonmisesvariate', 'weibullvariate']\n"
     ]
    }
   ],
   "source": [
    "import random\n",
    "print(dir(random))"
   ]
  },
  {
   "cell_type": "code",
   "execution_count": 24,
   "metadata": {},
   "outputs": [
    {
     "name": "stdout",
     "output_type": "stream",
     "text": [
      "0.3576608406668662\n",
      "0.2666804886278681\n",
      "0.2053506256267864\n",
      "0.20089605932354937\n",
      "0.8957275542428998\n",
      "0.8177503256275657\n",
      "0.2824385186012408\n",
      "0.5206751907177544\n",
      "0.23298193434486458\n",
      "0.31454827251569883\n"
     ]
    }
   ],
   "source": [
    "import random\n",
    "for i in range(10):\n",
    "    print(random.random())"
   ]
  },
  {
   "cell_type": "code",
   "execution_count": 25,
   "metadata": {},
   "outputs": [
    {
     "name": "stdout",
     "output_type": "stream",
     "text": [
      "5.335007624426362\n",
      "5.860556472759082\n",
      "3.84221838080016\n",
      "5.26477173642351\n",
      "3.5022513575125074\n",
      "5.1337855830745704\n",
      "3.506013418124891\n",
      "6.260266446744481\n",
      "6.16807820735035\n",
      "4.193745663383034\n"
     ]
    }
   ],
   "source": [
    "import random\n",
    "for i in range(10):\n",
    "    print(random.uniform(3,7))"
   ]
  },
  {
   "cell_type": "code",
   "execution_count": 26,
   "metadata": {},
   "outputs": [
    {
     "name": "stdout",
     "output_type": "stream",
     "text": [
      "3\n",
      "2\n",
      "5\n",
      "2\n",
      "5\n",
      "4\n",
      "3\n",
      "3\n",
      "6\n",
      "5\n",
      "6\n",
      "4\n",
      "6\n",
      "1\n",
      "6\n",
      "3\n",
      "5\n",
      "3\n",
      "1\n",
      "3\n"
     ]
    }
   ],
   "source": [
    "import random\n",
    "for i in range(20):\n",
    "    print(random.randint(1,6))"
   ]
  },
  {
   "cell_type": "code",
   "execution_count": 27,
   "metadata": {},
   "outputs": [
    {
     "name": "stdout",
     "output_type": "stream",
     "text": [
      "rock\n",
      "rock\n",
      "scissors\n",
      "scissors\n",
      "paper\n",
      "rock\n",
      "scissors\n",
      "scissors\n",
      "scissors\n",
      "paper\n",
      "paper\n",
      "paper\n",
      "paper\n",
      "rock\n",
      "paper\n",
      "paper\n",
      "scissors\n",
      "scissors\n",
      "paper\n",
      "paper\n"
     ]
    }
   ],
   "source": [
    "import random\n",
    "outcomes = [\"rock\", \"paper\", \"scissors\"]\n",
    "for i in range(20):\n",
    "    print(random.choice(outcomes))"
   ]
  },
  {
   "cell_type": "code",
   "execution_count": 31,
   "metadata": {},
   "outputs": [
    {
     "name": "stdout",
     "output_type": "stream",
     "text": [
      "[1, 4, 9, 16, 25, 36, 49, 64, 81, 100, 121, 144, 169, 196, 225, 256, 289, 324, 361, 400, 441, 484, 529, 576, 625, 676, 729, 784, 841, 900, 961, 1024, 1089, 1156, 1225, 1296, 1369, 1444, 1521, 1600, 1681, 1764, 1849, 1936, 2025, 2116, 2209, 2304, 2401, 2500, 2601, 2704, 2809, 2916, 3025, 3136, 3249, 3364, 3481, 3600, 3721, 3844, 3969, 4096, 4225, 4356, 4489, 4624, 4761, 4900, 5041, 5184, 5329, 5476, 5625, 5776, 5929, 6084, 6241, 6400, 6561, 6724, 6889, 7056, 7225, 7396, 7569, 7744, 7921, 8100, 8281, 8464, 8649, 8836, 9025, 9216, 9409, 9604, 9801, 10000]\n"
     ]
    }
   ],
   "source": [
    "squares=[]\n",
    "for i in range(1, 101):\n",
    "    squares.append(i**2)\n",
    "print(squares)"
   ]
  },
  {
   "cell_type": "code",
   "execution_count": 32,
   "metadata": {},
   "outputs": [
    {
     "name": "stdout",
     "output_type": "stream",
     "text": [
      "[1, 4, 9, 16, 25, 36, 49, 64, 81, 100, 121, 144, 169, 196, 225, 256, 289, 324, 361, 400, 441, 484, 529, 576, 625, 676, 729, 784, 841, 900, 961, 1024, 1089, 1156, 1225, 1296, 1369, 1444, 1521, 1600, 1681, 1764, 1849, 1936, 2025, 2116, 2209, 2304, 2401, 2500, 2601, 2704, 2809, 2916, 3025, 3136, 3249, 3364, 3481, 3600, 3721, 3844, 3969, 4096, 4225, 4356, 4489, 4624, 4761, 4900, 5041, 5184, 5329, 5476, 5625, 5776, 5929, 6084, 6241, 6400, 6561, 6724, 6889, 7056, 7225, 7396, 7569, 7744, 7921, 8100, 8281, 8464, 8649, 8836, 9025, 9216, 9409, 9604, 9801, 10000]\n"
     ]
    }
   ],
   "source": [
    "#FOR THE LIST COMPREHENSION \n",
    "squares2=[i**2 for i in range(1,101)]\n",
    "print(squares2)"
   ]
  },
  {
   "cell_type": "code",
   "execution_count": 33,
   "metadata": {},
   "outputs": [
    {
     "name": "stdout",
     "output_type": "stream",
     "text": [
      "[1, 4, 9, 5, 3, 3, 5, 9, 4, 1, 0, 1, 4, 9, 5, 3, 3, 5, 9, 4, 1, 0, 1, 4, 9, 5, 3, 3, 5, 9, 4, 1, 0, 1, 4, 9, 5, 3, 3, 5, 9, 4, 1, 0, 1, 4, 9, 5, 3, 3, 5, 9, 4, 1, 0, 1, 4, 9, 5, 3, 3, 5, 9, 4, 1, 0, 1, 4, 9, 5, 3, 3, 5, 9, 4, 1, 0, 1, 4, 9, 5, 3, 3, 5, 9, 4, 1, 0, 1, 4, 9, 5, 3, 3, 5, 9, 4, 1, 0, 1]\n"
     ]
    }
   ],
   "source": [
    "remainder11=[x**2 % 11 for x in range(1, 101)]\n",
    "print(remainder11)"
   ]
  },
  {
   "cell_type": "code",
   "execution_count": 2,
   "metadata": {},
   "outputs": [
    {
     "name": "stdout",
     "output_type": "stream",
     "text": [
      "['Jawani phir nhi ani', 'Janaan']\n"
     ]
    }
   ],
   "source": [
    "movies=[\"Na_maloom afrad\",\"Punjab nhi jaoun ge\",\"Chalawa\",\"Teefa in trouble\",\"Bin roye\",\"Jawani phir nhi ani\",\"Waar\",\"Wrong number\",\"Janaan\",\"Ho Mann Jahaan\",\"Na Maloom Afraad 2\"]\n",
    "Jmovies=[title for title in movies if title.startswith(\"J\")]\n",
    "print(Jmovies)"
   ]
  },
  {
   "cell_type": "code",
   "execution_count": 1,
   "metadata": {},
   "outputs": [
    {
     "name": "stdout",
     "output_type": "stream",
     "text": [
      "['Bin roye']\n"
     ]
    }
   ],
   "source": [
    "movies=[(\"Na_maloom afrad\", 1947),(\"Punjab nhi jaoun ge\", 2000),(\"Chalawa\",2001),(\"Teefa in trouble\", 2001),(\"Bin roye\", 2002)]\n",
    "after = [title for (title, year) in movies if year > 2001]\n",
    "print(after)"
   ]
  },
  {
   "cell_type": "code",
   "execution_count": 8,
   "metadata": {},
   "outputs": [],
   "source": [
    "import tkinter\n",
    "window = tkinter.Tk()\n",
    "window.title(\"JAISHA\")\n",
    "tkinter.Label(window, text=\"JAISHA\", fg = \"purple\", bg = \"pink\").pack()\n",
    "tkinter.Label(window, text = \"JAISHA\", fg = \"red\", bg = \"powder blue\").pack(side = \"top\", fill = \"x\")\n",
    "tkinter.Label(window, text = \"JAISHA\", fg = \"orange\", bg = \"brown\").pack(side = \"bottom\", fill = \"x\")\n",
    "tkinter.Label(window, text = \"JAISHA\" , fg = \"black\" , bg = \"white\").pack(side = \"left\", fill = \"y\")\n",
    "tkinter.Label(window, text = \"JAISHA\" , fg = \"yellow\", bg = \"Blue\").pack(side = \"right\", fill = \"y\")\n",
    "window.mainloop()"
   ]
  },
  {
   "cell_type": "code",
   "execution_count": 5,
   "metadata": {},
   "outputs": [
    {
     "name": "stdout",
     "output_type": "stream",
     "text": [
      "Wednesday, June 06, 2001\n"
     ]
    }
   ],
   "source": [
    "from datetime import date\n",
    "gvr = date(2001,6,6)\n",
    "print(gvr.strftime(\"%A, %B %d, %Y\"))"
   ]
  },
  {
   "cell_type": "code",
   "execution_count": 55,
   "metadata": {},
   "outputs": [],
   "source": [
    "import tkinter\n",
    "import tkinter.messagebox\n",
    "window = tkinter.Tk()\n",
    "window.title(\"Message\")\n",
    "response = tkinter.messagebox.askquestion(\"Simple Question\", \"Do you Love PYTHON?\")\n",
    "if response == \"1\":\n",
    "    tkinter.Label(window, text = \"You dont love PYTHON!\").pack()\n",
    "else:\n",
    "    tkinter.Label(window, text = \"You Love PYTHON!\").pack()\n",
    "window.mainloop()"
   ]
  },
  {
   "cell_type": "code",
   "execution_count": 43,
   "metadata": {},
   "outputs": [
    {
     "name": "stdout",
     "output_type": "stream",
     "text": [
      "2020-02-09 15:19:36.636938\n"
     ]
    }
   ],
   "source": [
    "import datetime\n",
    "now = datetime.datetime.today()\n",
    "print(now)"
   ]
  },
  {
   "cell_type": "code",
   "execution_count": 47,
   "metadata": {},
   "outputs": [
    {
     "name": "stdout",
     "output_type": "stream",
     "text": [
      "2000-07-01 00:00:00\n"
     ]
    }
   ],
   "source": [
    "import datetime\n",
    "moon_landing = \"7/1/2000\"\n",
    "moon_landing_datetime = datetime.datetime.strptime(moon_landing, \"%m/%d/%Y\")\n",
    "print(moon_landing_datetime)\n"
   ]
  },
  {
   "cell_type": "code",
   "execution_count": 48,
   "metadata": {},
   "outputs": [
    {
     "name": "stdout",
     "output_type": "stream",
     "text": [
      "['Dialect', 'DictReader', 'DictWriter', 'Error', 'OrderedDict', 'QUOTE_ALL', 'QUOTE_MINIMAL', 'QUOTE_NONE', 'QUOTE_NONNUMERIC', 'Sniffer', 'StringIO', '_Dialect', '__all__', '__builtins__', '__cached__', '__doc__', '__file__', '__loader__', '__name__', '__package__', '__spec__', '__version__', 'excel', 'excel_tab', 'field_size_limit', 'get_dialect', 'list_dialects', 're', 'reader', 'register_dialect', 'unix_dialect', 'unregister_dialect', 'writer']\n"
     ]
    }
   ],
   "source": [
    "import csv\n",
    "print(dir(csv))"
   ]
  },
  {
   "cell_type": "code",
   "execution_count": 49,
   "metadata": {},
   "outputs": [
    {
     "data": {
      "text/plain": [
       "213"
      ]
     },
     "execution_count": 49,
     "metadata": {},
     "output_type": "execute_result"
    }
   ],
   "source": [
    "def numchars(filename):\n",
    "    infile=open(filename, 'r')\n",
    "    content=infile.read()\n",
    "    infile.close()\n",
    "    return len(content)\n",
    "numchars('jaisha.txt')"
   ]
  },
  {
   "cell_type": "code",
   "execution_count": 50,
   "metadata": {},
   "outputs": [
    {
     "name": "stdout",
     "output_type": "stream",
     "text": [
      "Random number with seed 30\n",
      "first -  42\n",
      "Second -  50\n",
      "Third -  42\n"
     ]
    }
   ],
   "source": [
    "import random\n",
    "\n",
    "print (\"Random number with seed 30\")\n",
    "random.seed( 30 ) #first call\n",
    "print (\"first - \", random.randint(25,50))\n",
    "\n",
    "#generate a different random number as previous value is used as a seed\n",
    "print (\"Second - \", random.randint(25,50))\n",
    "\n",
    "#will generate a same random number as first one because seed value is same\n",
    "random.seed( 30 ) # second call\n",
    "print (\"Third - \", random.randint(25,50))"
   ]
  },
  {
   "cell_type": "code",
   "execution_count": 51,
   "metadata": {},
   "outputs": [
    {
     "name": "stdout",
     "output_type": "stream",
     "text": [
      "['my', 'name', 'is', '\"jaisha', 'imran\"', 'im', 'studing', 'in', 'uit(usman', 'institute', 'of', 'tecnology)', 'and', 'yes', 'on', 'tuesday', 'i', 'will', 'give', 'my', 'programming', 'fundamental', 'final', 'lab', 'and', 'inshallah', 'i', 'will', 'got', 'a', 'great', 'sccuess', 'by', 'the', 'grace', 'of', 'Almighty', 'Allah']\n"
     ]
    },
    {
     "data": {
      "text/plain": [
       "38"
      ]
     },
     "execution_count": 51,
     "metadata": {},
     "output_type": "execute_result"
    }
   ],
   "source": [
    "def numWords(filename):\n",
    "    infile =open(filename, \"r\")\n",
    "    content = infile.read()\n",
    "    infile.close()\n",
    "    \n",
    "    wordList = content.split()\n",
    "    print(wordList)\n",
    "    return len(wordList)\n",
    "numWords(\"jaisha.txt\")"
   ]
  },
  {
   "cell_type": "code",
   "execution_count": 53,
   "metadata": {},
   "outputs": [
    {
     "name": "stdout",
     "output_type": "stream",
     "text": [
      "['my name is \"jaisha imran\" im studing in uit(usman institute of tecnology) and yes on tuesday i will give my programming fundamental final lab and inshallah i will got a great sccuess by the grace of Almighty Allah']\n"
     ]
    },
    {
     "data": {
      "text/plain": [
       "1"
      ]
     },
     "execution_count": 53,
     "metadata": {},
     "output_type": "execute_result"
    }
   ],
   "source": [
    "def numLine(filename):\n",
    "    infile = open(filename, \"r\")\n",
    "    lineList = infile.readlines()\n",
    "    infile.close\n",
    "    \n",
    "    print(lineList)\n",
    "    return len(lineList)\n",
    "numLine(\"jaisha.txt\")\n",
    "    \n",
    "    "
   ]
  },
  {
   "cell_type": "code",
   "execution_count": 54,
   "metadata": {},
   "outputs": [
    {
     "name": "stdout",
     "output_type": "stream",
     "text": [
      "my name is \"jaisha imran\" im studing in uit(usman institute of tecnology) and yes on tuesday i will give my programming fundamental final lab and inshallah i will got a great sccuess by the grace of Almighty Allah "
     ]
    }
   ],
   "source": [
    "infile = open(\"jaisha.txt\")\n",
    "for line in infile:\n",
    "    print(line,end=\" \")"
   ]
  },
  {
   "cell_type": "code",
   "execution_count": 64,
   "metadata": {},
   "outputs": [
    {
     "name": "stdout",
     "output_type": "stream",
     "text": [
      "enter the filename: grades.txt\n",
      "2 student got A+\n",
      "9 student got B\n",
      "6 student got A\n",
      "3 student got C\n",
      "5 student got D\n"
     ]
    }
   ],
   "source": [
    "def duplicate(filename):\n",
    "    infile = open(filename, \"r\")\n",
    "    content = infile.read()\n",
    "    file = content.split()\n",
    "    num = [2,9,6,3,5]\n",
    "    for i in range(len(num)):\n",
    "        print(num[i], 'student got',file[i])\n",
    "    \n",
    "filename = input(\"enter the filename: \")\n",
    "duplicate(filename)"
   ]
  },
  {
   "cell_type": "code",
   "execution_count": 59,
   "metadata": {},
   "outputs": [
    {
     "name": "stdout",
     "output_type": "stream",
     "text": [
      "a random number from range is : 20\n"
     ]
    }
   ],
   "source": [
    "print(\"a random number from range is :\",end=\" \")\n",
    "print(random.randrange(10, 40, 5))"
   ]
  },
  {
   "cell_type": "code",
   "execution_count": 68,
   "metadata": {},
   "outputs": [
    {
     "name": "stdout",
     "output_type": "stream",
     "text": [
      "enter filename:jaisha.txt\n"
     ]
    },
    {
     "ename": "TypeError",
     "evalue": "'builtin_function_or_method' object is not iterable",
     "output_type": "error",
     "traceback": [
      "\u001b[1;31m---------------------------------------------------------------------------\u001b[0m",
      "\u001b[1;31mTypeError\u001b[0m                                 Traceback (most recent call last)",
      "\u001b[1;32m<ipython-input-68-028cdf91b130>\u001b[0m in \u001b[0;36m<module>\u001b[1;34m\u001b[0m\n\u001b[0;32m      9\u001b[0m     \u001b[1;32melse\u001b[0m\u001b[1;33m:\u001b[0m\u001b[1;33m\u001b[0m\u001b[1;33m\u001b[0m\u001b[0m\n\u001b[0;32m     10\u001b[0m         \u001b[1;32mreturn\u001b[0m \u001b[1;32mFalse\u001b[0m\u001b[1;33m\u001b[0m\u001b[1;33m\u001b[0m\u001b[0m\n\u001b[1;32m---> 11\u001b[1;33m \u001b[0mduplicate\u001b[0m\u001b[1;33m(\u001b[0m\u001b[0mfilename\u001b[0m\u001b[1;33m)\u001b[0m\u001b[1;33m\u001b[0m\u001b[1;33m\u001b[0m\u001b[0m\n\u001b[0m",
      "\u001b[1;32m<ipython-input-68-028cdf91b130>\u001b[0m in \u001b[0;36mduplicate\u001b[1;34m(filename)\u001b[0m\n\u001b[0;32m      4\u001b[0m     \u001b[0mcontent\u001b[0m \u001b[1;33m=\u001b[0m \u001b[0minfile\u001b[0m\u001b[1;33m.\u001b[0m\u001b[0mread\u001b[0m\u001b[1;33m(\u001b[0m\u001b[1;33m)\u001b[0m\u001b[1;33m\u001b[0m\u001b[1;33m\u001b[0m\u001b[0m\n\u001b[0;32m      5\u001b[0m     \u001b[0mfile\u001b[0m \u001b[1;33m=\u001b[0m \u001b[0mcontent\u001b[0m\u001b[1;33m.\u001b[0m\u001b[0msplit\u001b[0m\u001b[1;33m\u001b[0m\u001b[1;33m\u001b[0m\u001b[0m\n\u001b[1;32m----> 6\u001b[1;33m     \u001b[0msets\u001b[0m \u001b[1;33m=\u001b[0m \u001b[0mset\u001b[0m\u001b[1;33m(\u001b[0m\u001b[0mfile\u001b[0m\u001b[1;33m)\u001b[0m\u001b[1;33m\u001b[0m\u001b[1;33m\u001b[0m\u001b[0m\n\u001b[0m\u001b[0;32m      7\u001b[0m     \u001b[1;32mif\u001b[0m \u001b[1;33m(\u001b[0m\u001b[0mlen\u001b[0m\u001b[1;33m(\u001b[0m\u001b[0mfile\u001b[0m\u001b[1;33m)\u001b[0m\u001b[1;33m)\u001b[0m \u001b[1;33m!=\u001b[0m \u001b[0mlen\u001b[0m\u001b[1;33m(\u001b[0m\u001b[0mset\u001b[0m\u001b[1;33m(\u001b[0m\u001b[0mfile\u001b[0m\u001b[1;33m)\u001b[0m\u001b[1;33m)\u001b[0m\u001b[1;33m:\u001b[0m\u001b[1;33m\u001b[0m\u001b[1;33m\u001b[0m\u001b[0m\n\u001b[0;32m      8\u001b[0m         \u001b[1;32mreturn\u001b[0m \u001b[1;32mTrue\u001b[0m\u001b[1;33m\u001b[0m\u001b[1;33m\u001b[0m\u001b[0m\n",
      "\u001b[1;31mTypeError\u001b[0m: 'builtin_function_or_method' object is not iterable"
     ]
    }
   ],
   "source": [
    "def duplicate(filename):\n",
    "    filename = input(\"enter filename:\")\n",
    "    infile = open(filename, \"r\")\n",
    "    content = infile.read()\n",
    "    file = content.split\n",
    "    sets = set(file)\n",
    "    if (len(file)) != len(set(file)):\n",
    "        return True\n",
    "    else:\n",
    "        return False\n",
    "duplicate(filename)"
   ]
  },
  {
   "cell_type": "code",
   "execution_count": 2,
   "metadata": {},
   "outputs": [],
   "source": [
    "import sqlite3\n",
    "con = sqlite3.connect(\"zamrish.db\")\n",
    "cursorObj = con.cursor()\n"
   ]
  },
  {
   "cell_type": "code",
   "execution_count": 32,
   "metadata": {},
   "outputs": [],
   "source": [
    "import sqlite3\n",
    "from sqlite3 import Error\n",
    "def sql_connection():\n",
    "    try:\n",
    "        con = sqlite3.connect(\"zara.db\")\n",
    "        return con\n",
    "    except Error:\n",
    "        print(Error)\n",
    "        \n",
    "def sql_table(con):\n",
    "    cursorObj = con.cursor()\n",
    "    cursorObj.execute(\"CREATE TABLE employee2(id integer PRIMARY KEY,name text, salary real, department text, position text, HireDate text)\")\n",
    "    cursorObj.execute(\"INSERT INTO employee2 VALUES(1, 'Abad', 123000000, 'CE', 'higher manager', '2021-01-01')\")\n",
    "    cursorObj.execute(\"INSERT INTO employee2 VALUES(3, 'Shajia', 123400000, 'Doctor', 'head of department', '2026-03-06')\")\n",
    "    cursorObj.execute(\"INSERT INTO employee2 VALUES(4, 'Barirah', 3456789000,'Banker', 'head of the department', '2031-08-19')\")\n",
    "    cursorObj.execute(\"INSERT INTO employee2 VALUES(5, 'Muneeba', 1234567890000, 'Artist', 'worlds manager', '2036-07-07')\")\n",
    "    con.commit()\n",
    "con = sql_connection()\n",
    "sql_table(con)"
   ]
  },
  {
   "cell_type": "code",
   "execution_count": 35,
   "metadata": {},
   "outputs": [
    {
     "name": "stdout",
     "output_type": "stream",
     "text": [
      "(1, 'Abad', 123000000.0, 'CE', 'higher manager', '2021-01-01')\n",
      "(3, 'Shajia', 123400000.0, 'Doctor', 'head of department', '2026-03-06')\n",
      "(4, 'Barirah', 3456789000.0, 'Banker', 'head of the department', '2031-08-19')\n",
      "(5, 'Muneeba', 1234567890000.0, 'Artist', 'worlds manager', '2036-07-07')\n"
     ]
    }
   ],
   "source": [
    "import sqlite3\n",
    "con=sqlite3.connect('zara.db')\n",
    "def sql_fetch(con):\n",
    "    cursorObj=con.cursor()\n",
    "    cursorObj.execute('SELECT * FROM employee2')\n",
    "    rows = cursorObj.fetchall()\n",
    "    for row in rows:\n",
    "        print(row)\n",
    "sql_fetch(con)"
   ]
  },
  {
   "cell_type": "code",
   "execution_count": 37,
   "metadata": {},
   "outputs": [
    {
     "name": "stdout",
     "output_type": "stream",
     "text": [
      "('Abad',)\n"
     ]
    }
   ],
   "source": [
    "import sqlite3\n",
    "con=sqlite3.connect('zara.db')\n",
    "def sql_fetch(con):\n",
    "    cursorObj=con.cursor()\n",
    "    cursorObj.execute('SELECT NAME FROM employee2 where department=\"CE\"')\n",
    "    rows=cursorObj.fetchall()\n",
    "    for row in rows:\n",
    "        print(row)\n",
    "sql_fetch(con)"
   ]
  },
  {
   "cell_type": "markdown",
   "metadata": {},
   "source": [
    "# re.match #re.search #re.finall #re.split #re.sub #re.compile"
   ]
  },
  {
   "cell_type": "code",
   "execution_count": 7,
   "metadata": {},
   "outputs": [
    {
     "name": "stdout",
     "output_type": "stream",
     "text": [
      "None\n"
     ]
    }
   ],
   "source": [
    "import re\n",
    "txt = \"Regular expression patterns pack a lot of meaning into just a few characters.\"\n",
    "x = re.search(\"^Regular.*characters$\", txt)\n",
    "print(x)"
   ]
  },
  {
   "cell_type": "code",
   "execution_count": 12,
   "metadata": {},
   "outputs": [
    {
     "name": "stdout",
     "output_type": "stream",
     "text": [
      "[]\n"
     ]
    }
   ],
   "source": [
    "import re\n",
    "txt = \"Regular expression patterns pack a lot of meaning into just a few characters.\"\n",
    "x = re.findall(\"just\",str)\n",
    "print(x)\n"
   ]
  },
  {
   "cell_type": "code",
   "execution_count": 13,
   "metadata": {},
   "outputs": [
    {
     "name": "stdout",
     "output_type": "stream",
     "text": [
      "['ou']\n"
     ]
    }
   ],
   "source": [
    "import re\n",
    "str = \"some analyst say a Buffet-less Berkshire Hathaway could be a candidate for being broken up ito multiple companies.\"\n",
    "x = re.findall(\"ou\",str)\n",
    "print(x)"
   ]
  },
  {
   "cell_type": "code",
   "execution_count": 14,
   "metadata": {},
   "outputs": [
    {
     "name": "stdout",
     "output_type": "stream",
     "text": [
      "['a lot']\n"
     ]
    }
   ],
   "source": [
    "import re\n",
    "txt = \"Regular expression patterns pack a lot of meaning into just a few characters.\"\n",
    "x = re.findall(\"a lot\",txt)\n",
    "print(x)\n"
   ]
  },
  {
   "cell_type": "code",
   "execution_count": 20,
   "metadata": {},
   "outputs": [
    {
     "name": "stdout",
     "output_type": "stream",
     "text": [
      "['Regular', 'expression', 'patterns', 'pack', 'a', 'lot', 'of', 'meaning', 'into', 'just', 'a', 'few', 'characters.']\n"
     ]
    }
   ],
   "source": [
    "import re\n",
    "txt = \"Regular expression patterns pack a lot of meaning into just a few characters.\"\n",
    "x = re.split(\"\\s\", txt)\n",
    "print(x)"
   ]
  },
  {
   "cell_type": "code",
   "execution_count": 22,
   "metadata": {},
   "outputs": [
    {
     "name": "stdout",
     "output_type": "stream",
     "text": [
      "Regular*expression*patterns*pack*a*lot*of*meaning*into just a few characters.\n"
     ]
    }
   ],
   "source": [
    "#MERI MARZI SY CHANGE YANI RPLACE KR DEGA WO\n",
    "import re\n",
    "txt = \"Regular expression patterns pack a lot of meaning into just a few characters.\"\n",
    "x = re.sub(\"\\s\", \"*\" ,txt ,8)\n",
    "print(x)\n",
    "#ISKA MATLAB YA HA KY ISNY SPACES KO STARIC SY CHANGE KR DYA GAP DYA OR GAP MY STARIC HA"
   ]
  },
  {
   "cell_type": "code",
   "execution_count": 26,
   "metadata": {},
   "outputs": [
    {
     "name": "stdout",
     "output_type": "stream",
     "text": [
      "A random number from the list is:  4\n"
     ]
    }
   ],
   "source": [
    "import random\n",
    "print(\"A random number from the list is: \",end=\" \")\n",
    "print(random.choice([1,2,3,4]))"
   ]
  },
  {
   "cell_type": "code",
   "execution_count": 27,
   "metadata": {},
   "outputs": [
    {
     "name": "stdout",
     "output_type": "stream",
     "text": [
      "3\n"
     ]
    }
   ],
   "source": [
    "print(random.choice([1,2,3,4]))"
   ]
  },
  {
   "cell_type": "code",
   "execution_count": 31,
   "metadata": {},
   "outputs": [
    {
     "name": "stdout",
     "output_type": "stream",
     "text": [
      "a random number from range is:  25\n"
     ]
    }
   ],
   "source": [
    "print(\"a random number from range is: \",end=\" \")\n",
    "print(random.randrange(10,40,5))"
   ]
  },
  {
   "cell_type": "code",
   "execution_count": 33,
   "metadata": {},
   "outputs": [
    {
     "name": "stdout",
     "output_type": "stream",
     "text": [
      "The random number between o and 1:  0.3619463387990193\n"
     ]
    }
   ],
   "source": [
    "import random\n",
    "print(\"The random number between o and 1: \",end=\" \")\n",
    "print(random.random())"
   ]
  },
  {
   "cell_type": "code",
   "execution_count": 36,
   "metadata": {},
   "outputs": [
    {
     "name": "stdout",
     "output_type": "stream",
     "text": [
      "0.23604808973743452\n"
     ]
    }
   ],
   "source": [
    "import random\n",
    "random.seed(4)\n",
    "print(random.random())"
   ]
  },
  {
   "cell_type": "code",
   "execution_count": 37,
   "metadata": {},
   "outputs": [
    {
     "name": "stdout",
     "output_type": "stream",
     "text": [
      "1 9 7 3 5 \r\n"
     ]
    }
   ],
   "source": [
    "lst_odd = [1,9,7,3,5]\n",
    "for i in range(0, len(lst_odd)):\n",
    "    print(lst_odd[i],end=\" \")\n",
    "print(\"\\r\")"
   ]
  },
  {
   "cell_type": "code",
   "execution_count": 43,
   "metadata": {},
   "outputs": [
    {
     "name": "stdout",
     "output_type": "stream",
     "text": [
      "None\n",
      "9 3 5 7 1 \r\n"
     ]
    }
   ],
   "source": [
    "import random\n",
    "lst_odd = [1,9,7,3,5]\n",
    "print(random.shuffle(lst_odd))\n",
    "for i in range(0 , len(lst_odd)):\n",
    "    print(lst_odd[i], end=\" \")\n",
    "print(\"\\r\")"
   ]
  },
  {
   "cell_type": "code",
   "execution_count": 4,
   "metadata": {},
   "outputs": [
    {
     "name": "stdout",
     "output_type": "stream",
     "text": [
      "Woops! I have deleted the content!Now the file has more content!\n"
     ]
    }
   ],
   "source": [
    "f = open(\"demoF.txt\", \"a\")\n",
    "f.write(\"Now the file has more content!\")\n",
    "f.close()\n",
    "\n",
    "#open and read the file after the appending:\n",
    "f = open(\"demoF.txt\", \"r\")\n",
    "print(f.read())"
   ]
  },
  {
   "cell_type": "code",
   "execution_count": 3,
   "metadata": {},
   "outputs": [
    {
     "name": "stdout",
     "output_type": "stream",
     "text": [
      "Woops! I have deleted the content!\n"
     ]
    }
   ],
   "source": [
    "f = open(\"demoF.txt\", \"w\")\n",
    "f.write(\"Woops! I have deleted the content!\")\n",
    "f.close()\n",
    "\n",
    "#open and read the file after the appending:\n",
    "f = open(\"demoF.txt\", \"r\")\n",
    "print(f.read())"
   ]
  },
  {
   "cell_type": "code",
   "execution_count": 5,
   "metadata": {},
   "outputs": [
    {
     "name": "stdout",
     "output_type": "stream",
     "text": [
      "1 2 3 4 5 6 7 8 9 10 11 12 13 14 15 16 17 18 19 20\n"
     ]
    }
   ],
   "source": [
    "f = open(\"numbers.txt\", \"w\")\n",
    "f.write(\"1 2 3 4 5 6 7 8 9 10 11 12 13 14 15 16 17 18 19 20\")\n",
    "f.close()\n",
    "\n",
    "f = open(\"numbers.txt\", \"r\")\n",
    "print(f.read())"
   ]
  },
  {
   "cell_type": "code",
   "execution_count": 16,
   "metadata": {},
   "outputs": [
    {
     "name": "stdout",
     "output_type": "stream",
     "text": [
      "Even lists: [2, 62, 84]\n",
      "Odd lists: [5, 13, 17, 51, 73, 95]\n"
     ]
    }
   ],
   "source": [
    "def Split(mix): \n",
    "    ev_li = [] \n",
    "    od_li = [] \n",
    "    for i in mix: \n",
    "        if (i % 2 == 0): \n",
    "            ev_li.append(i) \n",
    "        else: \n",
    "            od_li.append(i) \n",
    "    print(\"Even lists:\", ev_li) \n",
    "    print(\"Odd lists:\", od_li) \n",
    "  \n",
    "# Driver Code \n",
    "mix = [2, 5, 13, 17, 51, 62, 73, 84, 95] \n",
    "Split(mix) "
   ]
  },
  {
   "cell_type": "code",
   "execution_count": 15,
   "metadata": {},
   "outputs": [],
   "source": [
    "f = open(\"numbers.txt\", \"w\")\n",
    "f.write(\"1 2 3 4 5 6 7 8 9 10 11 12 13 14 15 16 17 18 19 20\")\n",
    "f.close()\n",
    "f = open(\"evenlist.txt\", \"w\")\n",
    "f.close()\n",
    "f = open(\"oddlist.txt\", \"w\")\n",
    "f.close()\n",
    "\n"
   ]
  },
  {
   "cell_type": "code",
   "execution_count": 28,
   "metadata": {},
   "outputs": [
    {
     "name": "stdout",
     "output_type": "stream",
     "text": [
      "1 2 3 4 5 6 7 8 9 10\n"
     ]
    },
    {
     "ename": "NameError",
     "evalue": "name 'f1' is not defined",
     "output_type": "error",
     "traceback": [
      "\u001b[1;31m---------------------------------------------------------------------------\u001b[0m",
      "\u001b[1;31mNameError\u001b[0m                                 Traceback (most recent call last)",
      "\u001b[1;32m<ipython-input-28-0d2011548d85>\u001b[0m in \u001b[0;36m<module>\u001b[1;34m\u001b[0m\n\u001b[0;32m     11\u001b[0m     \u001b[1;32mif\u001b[0m \u001b[0mi\u001b[0m \u001b[1;32min\u001b[0m \u001b[0mnum\u001b[0m\u001b[1;33m(\u001b[0m\u001b[0mi\u001b[0m\u001b[1;33m%\u001b[0m\u001b[1;36m2\u001b[0m\u001b[1;33m)\u001b[0m\u001b[1;33m:\u001b[0m\u001b[1;33m\u001b[0m\u001b[1;33m\u001b[0m\u001b[0m\n\u001b[0;32m     12\u001b[0m             \u001b[0mprint\u001b[0m\u001b[1;33m(\u001b[0m\u001b[0mevenlist\u001b[0m\u001b[1;33m.\u001b[0m\u001b[0mtxt\u001b[0m\u001b[1;33m)\u001b[0m\u001b[1;33m\u001b[0m\u001b[1;33m\u001b[0m\u001b[0m\n\u001b[1;32m---> 13\u001b[1;33m \u001b[0mfiling2\u001b[0m\u001b[1;33m(\u001b[0m\u001b[0mf1\u001b[0m\u001b[1;33m)\u001b[0m\u001b[1;33m\u001b[0m\u001b[1;33m\u001b[0m\u001b[0m\n\u001b[0m",
      "\u001b[1;31mNameError\u001b[0m: name 'f1' is not defined"
     ]
    }
   ],
   "source": [
    "def filing1(f):\n",
    "    f=open('number.txt','w')\n",
    "    f.write(\"1 2 3 4 5 6 7 8 9 10\")\n",
    "    f = open('number.txt','r')\n",
    "    print(f.read())\n",
    "    f.close()\n",
    "filing1(f)\n",
    "def filing2(f1):\n",
    "    f1=open('evenlist.txt', 'w')\n",
    "    f1 = [1,2,3,4,5,6,7,8,9,10]\n",
    "    if i in num(i%2):\n",
    "            print(evenlist.txt)\n",
    "filing2(f1)            "
   ]
  },
  {
   "cell_type": "code",
   "execution_count": 4,
   "metadata": {},
   "outputs": [],
   "source": [
    "import tkinter\n",
    "window = tkinter.Tk()\n",
    "window.title(\"login window\")\n",
    "tkinter.Label(window, text = \"Username\").grid(row=0)\n",
    "tkinter.Entry(window).grid(row = 0,column = 1)\n",
    "tkinter.Label(window, text = \"Pasword\").grid(row=1)\n",
    "tkinter.Entry(window).grid(row=1,column=1)\n",
    "tkinter.Checkbutton(window, text=\"keep me logged in\").grid(columnspan = 2)\n",
    "window.mainloop()"
   ]
  },
  {
   "cell_type": "code",
   "execution_count": 16,
   "metadata": {},
   "outputs": [],
   "source": [
    "from tkinter import * \n",
    "\n",
    "def show():\n",
    "    p = password.get() #get password from entry\n",
    "    print(p)\n",
    "\n",
    "\n",
    "app = Tk()   \n",
    "password = StringVar() #Password variable\n",
    "passEntry = Entry(app, textvariable=password, show='*').pack() \n",
    "submit = Button(app, text='Show Console',command=show).pack()      \n",
    "app.mainloop() "
   ]
  },
  {
   "cell_type": "code",
   "execution_count": 21,
   "metadata": {},
   "outputs": [
    {
     "name": "stdout",
     "output_type": "stream",
     "text": [
      "Not a Valid Password\n"
     ]
    }
   ],
   "source": [
    "import tkinter\n",
    "import re \n",
    "window = tkinter.Tk()\n",
    "window.title(\"login window\")\n",
    "tkinter.Label(window, text = \"Username\").grid(row=0)\n",
    "tkinter.Entry(window).grid(row = 0,column = 1)\n",
    "tkinter.Label(window, text = \"Pasword\").grid(row=1)\n",
    "tkinter.Entry(window).grid(row=1,column=1)\n",
    "tkinter.Checkbutton(window, text=\"keep me logged in\").grid(columnspan = 2)\n",
    "\n",
    "\n",
    "password = \" \"\n",
    "flag = 0\n",
    "while True:   \n",
    "    if (len(password)<8): \n",
    "        flag = -1\n",
    "        break\n",
    "    elif not re.search(\"[a-z]\", password): \n",
    "        flag = -1\n",
    "        break\n",
    "    elif not re.search(\"[A-Z]\", password): \n",
    "        flag = -1\n",
    "        break\n",
    "    elif not re.search(\"[0-9]\", password): \n",
    "        flag = -1\n",
    "        break\n",
    "    elif not re.search(\"[_@$]\", password): \n",
    "        flag = -1\n",
    "        break\n",
    "    elif re.search(\"\\s\", password): \n",
    "        flag = -1\n",
    "        break\n",
    "    else: \n",
    "        flag = 0\n",
    "        print(\"Valid Password\") \n",
    "        break\n",
    "  \n",
    "if flag ==-1: \n",
    "    print(\"Not a Valid Password\") \n",
    "window.mainloop()"
   ]
  },
  {
   "cell_type": "code",
   "execution_count": 22,
   "metadata": {},
   "outputs": [
    {
     "name": "stdout",
     "output_type": "stream",
     "text": [
      "Enter a password : jaisha\n",
      "Not valid ! It should contain one letter between [A-Z]\n",
      "Enter a password : Jj1@\n",
      "Not valid ! Total characters should be between 6 and 12\n",
      "Enter a password : Jj1@7\n",
      "Not valid ! Total characters should be between 6 and 12\n",
      "Enter a password : Jj1@7890ghtD\n",
      "Password is valid\n"
     ]
    }
   ],
   "source": [
    "import re \n",
    "#2\n",
    "while True:\n",
    "  #3\n",
    "  user_input = input(\"Enter a password : \")\n",
    "  is_valid = False \n",
    "  if (len(user_input)<6 or len(user_input)>12):\n",
    "    #4\n",
    "    print(\"Not valid ! Total characters should be between 6 and 12\")\n",
    "    continue\n",
    "  elif not re.search(\"[A-Z]\",user_input):\n",
    "    #5\n",
    "    print(\"Not valid ! It should contain one letter between [A-Z]\")\n",
    "    continue\n",
    "  elif not re.search(\"[a-z]\",user_input):\n",
    "    #6\n",
    "    print(\"Not valid ! It should contain one letter between [a-z]\")\n",
    "    continue\n",
    "  elif not re.search(\"[1-9]\",user_input):\n",
    "    #7\n",
    "    print(\"Not valid ! It should contain one letter between [1-9]\")\n",
    "    continue\n",
    "  elif not re.search(\"[~!@#$%^&*]\",user_input):\n",
    "    #8\n",
    "    print(\"Not valid ! It should contain at least one letter in [~!@#$%^&*]\")\n",
    "    continue\n",
    "  elif re.search(\"[\\s]\",user_input):\n",
    "    #9\n",
    "    print(\"Not valid ! It should not contain any space\")\n",
    "    continue\n",
    "  else:\n",
    "    #10\n",
    "    is_valid = True\n",
    "    break\n",
    "#11\n",
    "if(is_valid):\n",
    "  print(\"Password is valid\")"
   ]
  },
  {
   "cell_type": "code",
   "execution_count": 23,
   "metadata": {},
   "outputs": [],
   "source": [
    "import tkinter\n",
    "# Let's create the Tkinter window\n",
    "window = tkinter.Tk()\n",
    "window.title(\"GUI\")\n",
    "\n",
    "# You will create two text labels namely 'username' and 'password' and and two input labels for them\n",
    "\n",
    "tkinter.Label(window, text = \"Username\").grid(row = 0) #'username' is placed on position 00 (row - 0 and column - 0)\n",
    "\n",
    "# 'Entry' class is used to display the input-field for 'username' text label\n",
    "tkinter.Entry(window).grid(row = 0, column = 1) # first input-field is placed on position 01 (row - 0 and column - 1)\n",
    "\n",
    "tkinter.Label(window, text = \"Password\").grid(row = 1) #'password' is placed on position 10 (row - 1 and column - 0)\n",
    "\n",
    "tkinter.Entry(window).grid(row = 1, column = 1) #second input-field is placed on position 11 (row - 1 and column - 1)\n",
    "\n",
    "# 'Checkbutton' class is for creating a checkbutton which will take a 'columnspan' of width two (covers two columns)\n",
    "tkinter.Checkbutton(window, text = \"Keep Me Logged In\").grid(columnspan = 2)                 \n",
    "\n",
    "window.mainloop()"
   ]
  },
  {
   "cell_type": "code",
   "execution_count": null,
   "metadata": {},
   "outputs": [],
   "source": []
  }
 ],
 "metadata": {
  "kernelspec": {
   "display_name": "Python 3",
   "language": "python",
   "name": "python3"
  },
  "language_info": {
   "codemirror_mode": {
    "name": "ipython",
    "version": 3
   },
   "file_extension": ".py",
   "mimetype": "text/x-python",
   "name": "python",
   "nbconvert_exporter": "python",
   "pygments_lexer": "ipython3",
   "version": "3.7.4"
  }
 },
 "nbformat": 4,
 "nbformat_minor": 2
}
