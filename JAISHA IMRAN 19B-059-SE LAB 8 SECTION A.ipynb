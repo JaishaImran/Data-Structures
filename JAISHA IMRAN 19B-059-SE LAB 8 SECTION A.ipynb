{
 "cells": [
  {
   "cell_type": "markdown",
   "metadata": {},
   "source": [
    "# QUESTION NO#01"
   ]
  },
  {
   "cell_type": "code",
   "execution_count": 1,
   "metadata": {},
   "outputs": [
    {
     "name": "stdout",
     "output_type": "stream",
     "text": [
      "dict['Name']:  Jibran\n",
      "dict['Age']:  13\n",
      "dict['DOB']:  16 April 2006\n",
      "dict['Class']:  Seventh\n"
     ]
    }
   ],
   "source": [
    "dict = {'Name' : 'Jibran', 'Age' : '13', 'Class' : 'Seventh', 'DOB' : '16 April 2006'}\n",
    "print(\"dict['Name']: \",dict['Name'])\n",
    "print(\"dict['Age']: \",dict['Age'])\n",
    "print(\"dict['DOB']: \",dict['DOB'])\n",
    "print(\"dict['Class']: \",dict['Class'])\n",
    "\n",
    "\n",
    "\n"
   ]
  },
  {
   "cell_type": "markdown",
   "metadata": {},
   "source": [
    "# QUESTION NO#02"
   ]
  },
  {
   "cell_type": "code",
   "execution_count": 2,
   "metadata": {},
   "outputs": [
    {
     "name": "stdout",
     "output_type": "stream",
     "text": [
      "Jibran\n",
      "13\n",
      "Seventh\n",
      "16 April 2006\n"
     ]
    }
   ],
   "source": [
    "dict = {'Name' : 'Jibran', 'Age' : '13', 'Class' : 'Seventh', 'DOB' : '16 April 2006'}\n",
    "for x in dict:\n",
    "    print(dict[x])"
   ]
  },
  {
   "cell_type": "markdown",
   "metadata": {},
   "source": [
    "# QUESTION NO#03"
   ]
  },
  {
   "cell_type": "code",
   "execution_count": 3,
   "metadata": {},
   "outputs": [
    {
     "name": "stdout",
     "output_type": "stream",
     "text": [
      "Jibran\n",
      "13\n",
      "Seventh\n",
      "16 April 2006\n"
     ]
    }
   ],
   "source": [
    "dict = {'Name' : 'Jibran', 'Age' : '13', 'Class' : 'Seventh', 'DOB' : '16 April 2006'}\n",
    "for x in dict.values():\n",
    "    print(x)"
   ]
  },
  {
   "cell_type": "markdown",
   "metadata": {},
   "source": [
    "# QUESTION NO#04"
   ]
  },
  {
   "cell_type": "code",
   "execution_count": 4,
   "metadata": {},
   "outputs": [
    {
     "name": "stdout",
     "output_type": "stream",
     "text": [
      "Name Jibran\n",
      "Age 13\n",
      "Class Seventh\n",
      "DOB 16 April 2006\n"
     ]
    }
   ],
   "source": [
    "dict = {'Name' : 'Jibran', 'Age' : '13', 'Class' : 'Seventh', 'DOB' : '16 April 2006'}\n",
    "for x, y in dict.items():\n",
    "    print(x,y)"
   ]
  },
  {
   "cell_type": "markdown",
   "metadata": {},
   "source": [
    "# QUESTION NO#05"
   ]
  },
  {
   "cell_type": "code",
   "execution_count": 5,
   "metadata": {},
   "outputs": [
    {
     "name": "stdout",
     "output_type": "stream",
     "text": [
      "Yes, 'DOB' is one of the keys in the dict dictionary\n"
     ]
    }
   ],
   "source": [
    "dict = {'Name' : 'Jibran', 'Age' : '13', 'Class' : 'Seventh', 'DOB' : '16 April 2006'}\n",
    "if \"DOB\" in dict:\n",
    "    print(\"Yes, 'DOB' is one of the keys in the dict dictionary\")"
   ]
  },
  {
   "cell_type": "markdown",
   "metadata": {},
   "source": [
    "# QUESTION NO#06"
   ]
  },
  {
   "cell_type": "code",
   "execution_count": 6,
   "metadata": {},
   "outputs": [
    {
     "name": "stdout",
     "output_type": "stream",
     "text": [
      "dict['Age']:  12.5\n",
      "dict['School']:  The Seeds School\n",
      "dict['Friend1'] Mohib\n",
      "dict['Friend2'] Akbar\n",
      "dict['Friend3'] Jazil\n"
     ]
    }
   ],
   "source": [
    "dict = {'Name' : 'Jibran', 'Age' : '13', 'Class' : 'Seventh', 'DOB' : '16 April 2006'}\n",
    "dict['Age'] = 12.5\n",
    "dict['School'] = 'The Seeds School'\n",
    "\n",
    "print(\"dict['Age']: \", dict['Age'])\n",
    "print(\"dict['School']: \", dict['School'])\n",
    "\n",
    "dict['Friend1'] = 'Mohib'\n",
    "dict['Friend2'] = 'Akbar'\n",
    "dict['Friend3'] = 'Jazil'\n",
    "\n",
    "print(\"dict['Friend1']\" , dict['Friend1'])\n",
    "print(\"dict['Friend2']\" , dict['Friend2'])\n",
    "print(\"dict['Friend3']\" , dict['Friend3'])\n"
   ]
  },
  {
   "cell_type": "markdown",
   "metadata": {},
   "source": [
    "# QUESTION NO#07"
   ]
  },
  {
   "cell_type": "code",
   "execution_count": 8,
   "metadata": {},
   "outputs": [
    {
     "name": "stdout",
     "output_type": "stream",
     "text": [
      "Name Jibran\n",
      "Age 13\n",
      "Class Seventh\n",
      "DOB 16 April 2006\n",
      "School The Seeds School\n",
      "Friend1 Mohib\n",
      "Friend2 Akbar\n",
      "Frined3 Jazil\n",
      "{'Name': 'Jibran', 'Age': '13', 'Class': 'Seventh', 'DOB': '16 April 2006', 'School': 'The Seeds School', 'Friend2': 'Akbar', 'Frined3': 'Jazil'}\n"
     ]
    }
   ],
   "source": [
    "dict = {'Name' : 'Jibran', 'Age' : '13', 'Class' : 'Seventh', 'DOB' : '16 April 2006', 'School' : 'The Seeds School', 'Friend1' :'Mohib', 'Friend2' : 'Akbar', 'Frined3':'Jazil'}\n",
    "\n",
    "for x, y in dict.items():\n",
    "    print(x,y)\n",
    "dict.pop(\"Friend1\")\n",
    "print(dict)\n"
   ]
  },
  {
   "cell_type": "markdown",
   "metadata": {},
   "source": [
    "# QUESTION NO#08"
   ]
  },
  {
   "cell_type": "code",
   "execution_count": 9,
   "metadata": {},
   "outputs": [
    {
     "name": "stdout",
     "output_type": "stream",
     "text": [
      "dict['Age']:  12.5\n",
      "dict['School']:  The Seeds School\n",
      "dict['Friend1'] Mohib\n",
      "dict['Friend2'] Akbar\n",
      "dict['Friend3'] Jazil\n"
     ]
    }
   ],
   "source": [
    "dict = {'Name' : 'Jibran', 'Age' : '13', 'Class' : 'Seventh', 'DOB' : '16 April 2006'}\n",
    "dict['Age'] = 12.5\n",
    "dict['School'] = 'The Seeds School'\n",
    "\n",
    "print(\"dict['Age']: \", dict['Age'])\n",
    "print(\"dict['School']: \", dict['School'])\n",
    "\n",
    "dict['Friend1'] = 'Mohib'\n",
    "dict['Friend2'] = 'Akbar'\n",
    "dict['Friend3'] = 'Jazil'\n",
    "\n",
    "print(\"dict['Friend1']\" , dict['Friend1'])\n",
    "print(\"dict['Friend2']\" , dict['Friend2'])\n",
    "print(\"dict['Friend3']\" , dict['Friend3'])\n",
    "del dict['Friend1']"
   ]
  },
  {
   "cell_type": "markdown",
   "metadata": {},
   "source": [
    "# QUESTION NO#09"
   ]
  },
  {
   "cell_type": "code",
   "execution_count": 10,
   "metadata": {},
   "outputs": [
    {
     "name": "stdout",
     "output_type": "stream",
     "text": [
      "{'Name': 'Jibran', 'Age': '13', 'Class': 'Seventh', 'DOB': '16 April 2006', 'School': 'The Seeds School', 'Friend1': 'Mohib', 'Friend2': 'Akbar', 'Frined3': 'Jazil'}\n",
      "Name Jibran\n",
      "Age 13\n",
      "Class Seventh\n",
      "DOB 16 April 2006\n",
      "School The Seeds School\n",
      "Friend1 Mohib\n",
      "Friend2 Akbar\n",
      "Frined3 Jazil\n",
      "After poping form the dictionary the remaining elements are: {'Name': 'Jibran', 'Age': '13', 'Class': 'Seventh', 'DOB': '16 April 2006', 'School': 'The Seeds School', 'Friend1': 'Mohib', 'Friend2': 'Akbar'}\n"
     ]
    }
   ],
   "source": [
    "dict = {'Name' : 'Jibran', 'Age' : '13', 'Class' : 'Seventh', 'DOB' : '16 April 2006', 'School' : 'The Seeds School', 'Friend1' :'Mohib', 'Friend2' : 'Akbar', 'Frined3':'Jazil'}\n",
    "print(dict)\n",
    "for x, y in dict.items():\n",
    "    print(x, y)\n",
    "dict.popitem()\n",
    "print(\"After poping form the dictionary the remaining elements are:\",dict)\n",
    "#friend 3 is poped\n",
    "    "
   ]
  },
  {
   "cell_type": "markdown",
   "metadata": {},
   "source": [
    "# QUESTION NO#10"
   ]
  },
  {
   "cell_type": "code",
   "execution_count": 18,
   "metadata": {},
   "outputs": [
    {
     "name": "stdout",
     "output_type": "stream",
     "text": [
      "{1: {'name': 'Syed Faisal Ali', 'experience': '22', 'gender': 'Male'}, 2: {'name': 'Dr. M Wasim', 'experience': '23', 'gender': 'Male'}, 3: {'name': 'Dr. Lubaid', 'experience': '23', 'gender': 'Male'}, 4: {'name': 'Noor ul Huda', 'experience': '3', 'gender': 'Female'}, 5: {'name': 'Parkash Lohana', 'experience': '19', 'gender': 'Male'}, 6: {'name': 'Fauzan Saeed', 'experience': '15', 'gender': 'Male'}}\n"
     ]
    }
   ],
   "source": [
    "faculty = {1: {'name' : 'Syed Faisal Ali', 'experience': '22', 'gender': 'Male'},\n",
    "           2: {'name' : 'Dr. M Wasim', 'experience': '23', 'gender': 'Male'},\n",
    "           3: {'name' : 'Dr. Lubaid', 'experience': '23', 'gender': 'Male'},\n",
    "           4: {'name' : 'Noor ul Huda', 'experience': '3', 'gender': 'Female'},\n",
    "           5: {'name' : 'Parkash Lohana', 'experience': '19', 'gender': 'Male'},\n",
    "           6: {'name' : 'Fauzan Saeed', 'experience': '15', 'gender': 'Male'}}\n",
    "print(faculty)"
   ]
  },
  {
   "cell_type": "markdown",
   "metadata": {},
   "source": [
    "# TASK NO#01"
   ]
  },
  {
   "cell_type": "code",
   "execution_count": 20,
   "metadata": {},
   "outputs": [
    {
     "name": "stdout",
     "output_type": "stream",
     "text": [
      "{1: {'Father': 'Imran Alam'}, 2: {'Mother': 'Ghazala Imran'}, 3: {'Brother': 'Abad Alam'}, 4: {'Sister1': 'Shajia Imran'}, 5: {'Sister2': 'Barirah Imran'}, 6: {'Sister3': 'Muneeba Imran'}, 7: {'GrandParent maternal': 'Naseem Ahmed , Sausan'}, 8: {'GrandParent paternal': 'Maqbool , Mehmooda'}}\n"
     ]
    }
   ],
   "source": [
    "Family = {1: {'Father' : 'Imran Alam'}, \n",
    "          2: {'Mother' : 'Ghazala Imran'}, \n",
    "          3: {'Brother' : 'Abad Alam'}, \n",
    "          4: {'Sister1' : 'Shajia Imran'}, \n",
    "          5: {'Sister2' : 'Barirah Imran'}, \n",
    "          6: {'Sister3' : 'Muneeba Imran'}, \n",
    "          7: {'GrandParent maternal' : 'Naseem Ahmed , Sausan'},\n",
    "          8: {'GrandParent paternal': 'Maqbool , Mehmooda'}}\n",
    "print(Family)"
   ]
  },
  {
   "cell_type": "markdown",
   "metadata": {},
   "source": [
    "# TASK NO#02"
   ]
  },
  {
   "cell_type": "code",
   "execution_count": 36,
   "metadata": {},
   "outputs": [
    {
     "name": "stdout",
     "output_type": "stream",
     "text": [
      "{'father': '0987', 'Brother': '12345', 'sister': '34567', 'friend1': '76548', 'friend2': '67546', 'friend3': '87456', 'friend4': '098765', 'friend5': '879065', 'friend6': '76458', 'friend7': '67890', 'friend': '87655'}\n"
     ]
    },
    {
     "data": {
      "text/plain": [
       "7"
      ]
     },
     "execution_count": 36,
     "metadata": {},
     "output_type": "execute_result"
    }
   ],
   "source": [
    "def personal_phone_no(dict):\n",
    "        dict = {'father' : \"0987\", 'Mother' : \"76543\", 'Brother' : \"12345\", 'sister' : \"34567\", 'friend1' : \"76548\", 'friend2' : \"67546\", 'friend3' : \"87456\", 'friend4': \"098765\", 'friend5': \"879065\", 'friend6' : \"76458\", 'friend7': '67890', 'friend': \"87655\"}\n",
    "        dict.pop(\"Mother\")\n",
    "        print(dict)\n",
    "personal_phone_no(dict)\n",
    "len(dict)\n",
    "\n",
    "    \n",
    "    "
   ]
  },
  {
   "cell_type": "markdown",
   "metadata": {},
   "source": [
    "# TASK NO#03"
   ]
  },
  {
   "cell_type": "code",
   "execution_count": 31,
   "metadata": {},
   "outputs": [
    {
     "name": "stdout",
     "output_type": "stream",
     "text": [
      "{'b': '0x62', 'a': '0x61', 'r': '0x72', 'i': '0x69', 'h': '0x68'}\n"
     ]
    }
   ],
   "source": [
    "def hexaASCII():\n",
    "    x='barirah'.lower()\n",
    "    b={}\n",
    "    for i in x:\n",
    "        b[i]=hex(ord(i))\n",
    "    return b\n",
    "print(hexaASCII())\n",
    "    "
   ]
  },
  {
   "cell_type": "markdown",
   "metadata": {},
   "source": [
    "# TASK NO#04"
   ]
  },
  {
   "cell_type": "code",
   "execution_count": 29,
   "metadata": {},
   "outputs": [
    {
     "name": "stdout",
     "output_type": "stream",
     "text": [
      "d1 Biryani\n",
      "d2 pulao\n",
      "d3 chineese rice\n",
      "Dish which are remaining to cook on next week: {'d1': 'Biryani', 'd2': 'pulao'}\n"
     ]
    }
   ],
   "source": [
    "fav = { 'd1':'Biryani',\n",
    "       'd2':'pulao',\n",
    "       'd3':'chineese rice'\n",
    "      }\n",
    "cook_last_week = {'d3':'chineese rice'}\n",
    "for x,y in fav.items():\n",
    "    print(x,y)\n",
    "fav.popitem()\n",
    "print('Dish which are remaining to cook on next week:',fav)\n"
   ]
  },
  {
   "cell_type": "markdown",
   "metadata": {},
   "source": [
    "# TASK NO#05"
   ]
  },
  {
   "cell_type": "code",
   "execution_count": 1,
   "metadata": {},
   "outputs": [
    {
     "name": "stdout",
     "output_type": "stream",
     "text": [
      "COMMON GUEST.. Ghazala Imran\n",
      "COMMON GUEST.. Sarfaraz Alam\n",
      "The total number of guests are 9\n",
      "THE GUESTS: dict_values(['Imran Alam', 'Ghazala Imran', 'Momi', 'Anhaar', 'Sarfaraz Alam', 'Ahsan', 'Barirah', 'Abad', 'Shabana'])\n"
     ]
    }
   ],
   "source": [
    "dict1 = {'Father':'Imran Alam','Mother':'Ghazala Imran','Sister':'Momi','Friend1':'Anhaar','Taya':'Sarfaraz Alam','Neighbour':'Ahsan'}\n",
    "dict2 = {'Daughter':'Barirah','Son':'Abad','Taya':'Sarfaraz Alam','phupo':'Shabana','Mother':'Ghazala Imran'}\n",
    "for i in dict1.values():\n",
    "    for j in dict2.values():\n",
    "        if i == j:\n",
    "            print('COMMON GUEST..',i)\n",
    "dict3 = {**dict1, **dict2}\n",
    "a = len(dict3)\n",
    "print(\"The total number of guests are\",a)\n",
    "print(\"THE GUESTS:\",dict3.values())"
   ]
  },
  {
   "cell_type": "code",
   "execution_count": null,
   "metadata": {},
   "outputs": [],
   "source": []
  }
 ],
 "metadata": {
  "kernelspec": {
   "display_name": "Python 3",
   "language": "python",
   "name": "python3"
  },
  "language_info": {
   "codemirror_mode": {
    "name": "ipython",
    "version": 3
   },
   "file_extension": ".py",
   "mimetype": "text/x-python",
   "name": "python",
   "nbconvert_exporter": "python",
   "pygments_lexer": "ipython3",
   "version": "3.7.4"
  }
 },
 "nbformat": 4,
 "nbformat_minor": 2
}
